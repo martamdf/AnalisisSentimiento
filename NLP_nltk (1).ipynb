{
 "cells": [
  {
   "cell_type": "markdown",
   "metadata": {},
   "source": [
    "# NLTK"
   ]
  },
  {
   "cell_type": "markdown",
   "metadata": {},
   "source": [
    "NLTK (Natural language tool kit) es un módulo de Python que contiene herramientas para el manejo del lenguaje natural. Para usarlas, al igual que con los otros módulos, se tiene que importar.\n"
   ]
  },
  {
   "cell_type": "code",
   "execution_count": 2,
   "metadata": {},
   "outputs": [],
   "source": [
    "# conda install -c anaconda nltk \n",
    "import nltk"
   ]
  },
  {
   "cell_type": "code",
   "execution_count": 84,
   "metadata": {},
   "outputs": [
    {
     "name": "stdout",
     "output_type": "stream",
     "text": [
      "showing info https://raw.githubusercontent.com/nltk/nltk_data/gh-pages/index.xml\n"
     ]
    },
    {
     "data": {
      "text/plain": [
       "True"
      ]
     },
     "execution_count": 84,
     "metadata": {},
     "output_type": "execute_result"
    }
   ],
   "source": [
    "nltk.download() #Para descargar paquetes\n",
    "# De corpora descargar: wordnet y stopwords\n",
    "# De models descargar: porter_test, punkt, spanish_grammars, vader_lexicon"
   ]
  },
  {
   "cell_type": "code",
   "execution_count": 4,
   "metadata": {},
   "outputs": [
    {
     "name": "stdout",
     "output_type": "stream",
     "text": [
      "El artículo 1 España se constituye en un Estado social y democrático de Derecho, que propugna como valores superiores de su ordenamiento jurídico la libertad, la justicia, la igualdad y el pluralismo político.\n",
      "El artículo 2 La Constitución se fundamenta en la indisoluble unidad de la Nación española, patria común e indivisible de todos los españoles, y reconoce y garantiza el derecho a la autonomía de las nacionalidades y regiones que la integran y la solidaridad entre todas ellas.\n",
      "Los artículos 3,3.4 El castellano es la lengua española oficial del Estado. Todos los españoles tienen el deber de conocerla y el derecho a usarla.\n",
      "El artículo 4 La bandera de España está formada por tres franjas horizontales, roja, amarilla y roja, siendo la amarilla de doble anchura que cada una de las rojas.\n",
      "El artículo 5 La capital del Estado es la villa de Madrid.\n",
      "El artículo 6 Los partidos políticos expresan el pluralismo político, concurren a la formación y manifestación de la voluntad popular y son instrumento fundamental para la participación política. Su creación y el ejercicio de su actividad son libres dentro del respeto a la Constitución y a la ley. Su estructura interna y funcionamiento deberán ser democráticos.\n"
     ]
    }
   ],
   "source": [
    "#Abrimos el archivo .txt\n",
    "\n",
    "archivo_nombre=\"constitucion.txt\"\n",
    "with open(archivo_nombre,\"r\",  encoding='latin-1') as archivo: \n",
    "    texto=archivo.read()\n",
    "print(texto)"
   ]
  },
  {
   "cell_type": "code",
   "execution_count": 6,
   "metadata": {},
   "outputs": [],
   "source": [
    "#texto.split(\" \")"
   ]
  },
  {
   "cell_type": "code",
   "execution_count": 10,
   "metadata": {
    "tags": []
   },
   "outputs": [],
   "source": [
    "#Convertimos en tokens cada palabra del archivo\n",
    "\n",
    "tokens=nltk.word_tokenize(texto,\"spanish\")\n",
    "#for token in tokens: \n",
    "#    print(token)"
   ]
  },
  {
   "cell_type": "code",
   "execution_count": 11,
   "metadata": {},
   "outputs": [],
   "source": [
    "#tokens"
   ]
  },
  {
   "cell_type": "code",
   "execution_count": 12,
   "metadata": {},
   "outputs": [
    {
     "name": "stdout",
     "output_type": "stream",
     "text": [
      "219\n"
     ]
    }
   ],
   "source": [
    "#Contamos el número de palabras\n",
    "\n",
    "palabras_total=len(tokens)\n",
    "print(palabras_total)"
   ]
  },
  {
   "cell_type": "code",
   "execution_count": 6,
   "metadata": {},
   "outputs": [
    {
     "name": "stdout",
     "output_type": "stream",
     "text": [
      "121\n"
     ]
    }
   ],
   "source": [
    "#Encontramos el número de palabras diferentes \n",
    "\n",
    "tokens_conjunto=set(tokens) \n",
    "palabras_diferentes=len(tokens_conjunto)\n",
    "print(palabras_diferentes)"
   ]
  },
  {
   "cell_type": "markdown",
   "metadata": {},
   "source": [
    "La riqueza léxica es la relación que existe entre la extensión de un texto y el número de palabras distintas que contiene. "
   ]
  },
  {
   "cell_type": "code",
   "execution_count": 13,
   "metadata": {},
   "outputs": [
    {
     "name": "stdout",
     "output_type": "stream",
     "text": [
      "0.5525114155251142\n"
     ]
    }
   ],
   "source": [
    "#Encontramos la riqueza léxica del texto\n",
    "\n",
    "tokens_conjunto=set(tokens)\n",
    "palabras_totales=len(tokens) \n",
    "\n",
    "palabras_diferentes=len(tokens_conjunto)\n",
    "\n",
    "riqueza_lexica=palabras_diferentes/palabras_totales\n",
    "print(riqueza_lexica)"
   ]
  },
  {
   "cell_type": "code",
   "execution_count": 14,
   "metadata": {},
   "outputs": [],
   "source": [
    "#una alta riqueza lexica sería mayor a 0.7 \n",
    "def riqueza_lexica(tokens): \n",
    "    tokens_conjunto=set(tokens)\n",
    "    palabras_totales=len(tokens) \n",
    "    palabras_diferentes=len(tokens_conjunto)\n",
    "    riqueza_lexica=palabras_diferentes/palabras_totales\n",
    "    return riqueza_lexica"
   ]
  },
  {
   "cell_type": "code",
   "execution_count": 15,
   "metadata": {},
   "outputs": [
    {
     "data": {
      "text/plain": [
       "0.5525114155251142"
      ]
     },
     "execution_count": 15,
     "metadata": {},
     "output_type": "execute_result"
    }
   ],
   "source": [
    "riqueza_lexica(tokens)"
   ]
  },
  {
   "cell_type": "markdown",
   "metadata": {},
   "source": [
    "También podemos usar la lista de tokens para hacer conteos de palabras individuales."
   ]
  },
  {
   "cell_type": "code",
   "execution_count": 16,
   "metadata": {},
   "outputs": [
    {
     "name": "stdout",
     "output_type": "stream",
     "text": [
      "5\n"
     ]
    }
   ],
   "source": [
    "#Count cuenta palabras dentro de tokens\n",
    "\n",
    "conteo_individual=tokens.count(\"artículo\")\n",
    "print(conteo_individual)"
   ]
  },
  {
   "cell_type": "code",
   "execution_count": 17,
   "metadata": {},
   "outputs": [
    {
     "name": "stdout",
     "output_type": "stream",
     "text": [
      "2.2831050228310503 %\n"
     ]
    }
   ],
   "source": [
    "#El porcentaje de aparición de las palabras\n",
    "\n",
    "palabras_totales=len(tokens) \n",
    "porcentaje=100*conteo_individual/palabras_totales\n",
    "print(porcentaje,\"%\")"
   ]
  },
  {
   "cell_type": "markdown",
   "metadata": {},
   "source": [
    "Las concordacias muestran todas las apariciones de una palabra junto del texto que la rodea.\n",
    "\n",
    "Con la función `concordance()` del Text de NLTK se muestran las concordancias de una palabra.\n"
   ]
  },
  {
   "cell_type": "code",
   "execution_count": 20,
   "metadata": {},
   "outputs": [
    {
     "data": {
      "text/plain": [
       "nltk.text.Text"
      ]
     },
     "execution_count": 20,
     "metadata": {},
     "output_type": "execute_result"
    }
   ],
   "source": [
    "type(texto_nltk)"
   ]
  },
  {
   "cell_type": "code",
   "execution_count": 21,
   "metadata": {},
   "outputs": [
    {
     "name": "stdout",
     "output_type": "stream",
     "text": [
      "Displaying 5 of 5 matches:\n",
      "El artículo 1 España se constituye en un Estad\n",
      "ldad y el pluralismo político . El artículo 2 La Constitución se fundamenta en\n",
      "nocerla y el derecho a usarla . El artículo 4 La bandera de España está formad\n",
      "ura que cada una de las rojas . El artículo 5 La capital del Estado es la vill\n",
      " Estado es la villa de Madrid . El artículo 6 Los partidos políticos expresan \n"
     ]
    }
   ],
   "source": [
    "texto_nltk=nltk.Text(tokens) \n",
    "texto_nltk.concordance(\"artículo\")"
   ]
  },
  {
   "cell_type": "code",
   "execution_count": 22,
   "metadata": {},
   "outputs": [],
   "source": [
    "#Abrimos el txt poe.txt\n",
    "\n",
    "with open(\"poe.txt\",\"r\", encoding='utf-8') as archivo: \n",
    "    texto=archivo.read() \n",
    "##texto"
   ]
  },
  {
   "cell_type": "code",
   "execution_count": 25,
   "metadata": {},
   "outputs": [
    {
     "data": {
      "text/plain": [
       "69423"
      ]
     },
     "execution_count": 25,
     "metadata": {},
     "output_type": "execute_result"
    }
   ],
   "source": [
    "len(texto)"
   ]
  },
  {
   "cell_type": "code",
   "execution_count": 26,
   "metadata": {},
   "outputs": [],
   "source": [
    "#convertimos a tokens\n",
    "tokens=nltk.word_tokenize(texto,\"spanish\") "
   ]
  },
  {
   "cell_type": "code",
   "execution_count": 27,
   "metadata": {},
   "outputs": [
    {
     "data": {
      "text/plain": [
       "13932"
      ]
     },
     "execution_count": 27,
     "metadata": {},
     "output_type": "execute_result"
    }
   ],
   "source": [
    "len(tokens)"
   ]
  },
  {
   "cell_type": "code",
   "execution_count": 29,
   "metadata": {},
   "outputs": [
    {
     "name": "stdout",
     "output_type": "stream",
     "text": [
      "Displaying 7 of 7 matches:\n",
      " de la mar quejumbrosa . 1849 . A MI MADRE ( _Soneto_ ) Porque siento que allá \n",
      " , a ti que eres para mí más que una madre y que llenáis el santuario de mi cor\n",
      "libertar el alma de mi Virginia . Mi madre , mi propia madre , que murió en bue\n",
      "e mi Virginia . Mi madre , mi propia madre , que murió en buena hora , no era s\n",
      "murió en buena hora , no era sino mi madre . Pero vos fuisteis la madre de aque\n",
      "sino mi madre . Pero vos fuisteis la madre de aquella que quise tan tiernamente\n",
      "eso mismo me sois más querida que la madre que conocí , más querida que todo , \n"
     ]
    }
   ],
   "source": [
    "#la función nltk.Text nos convierte los tokens a un formato de texto de NLTK\n",
    "texto_nltk=nltk.Text(tokens) \n",
    "texto_nltk.concordance(\"madre\")"
   ]
  },
  {
   "cell_type": "code",
   "execution_count": 33,
   "metadata": {},
   "outputs": [
    {
     "name": "stdout",
     "output_type": "stream",
     "text": [
      "Displaying 5 of 5 matches:\n",
      "s monstruos algún sér de superior naturaleza , que tiende las alas a la eterna\n",
      "so buscaba la comunicación con la Naturaleza , tan sana y fortalecedora . « Od\n",
      "aba que Dios , como Creador de la Naturaleza , puede , si quiere , modificarla\n",
      "ue penetra todas las cosas por la naturaleza de su intensidad . Lo cual estaba\n",
      "r otro que sea determinador de la Naturaleza . Este es el que previene todas l\n"
     ]
    }
   ],
   "source": [
    "#la función nltk.Text nos convierte los tokens a un formato de texto de NLTK\n",
    "texto_nltk=nltk.Text(tokens) \n",
    "texto_nltk.concordance(\"naturaleza\")"
   ]
  },
  {
   "cell_type": "code",
   "execution_count": 41,
   "metadata": {},
   "outputs": [
    {
     "name": "stdout",
     "output_type": "stream",
     "text": [
      "bruma campana primera bajo muchacha voz cabeza libertad alma\n",
      "salutación isla fuerza pecho ciudad piedra impresión angustia\n",
      "exactitud naturaleza muerte\n"
     ]
    }
   ],
   "source": [
    "x = texto_nltk.similar(\"madre\")"
   ]
  },
  {
   "cell_type": "code",
   "execution_count": 39,
   "metadata": {},
   "outputs": [],
   "source": [
    "x"
   ]
  },
  {
   "cell_type": "code",
   "execution_count": 40,
   "metadata": {
    "collapsed": true,
    "jupyter": {
     "outputs_hidden": true
    },
    "tags": []
   },
   "outputs": [
    {
     "data": {
      "text/plain": [
       "['alma',\n",
       " 'fuerza',\n",
       " 'luz',\n",
       " 'campana',\n",
       " 'querida',\n",
       " 'lecho',\n",
       " 'corazón',\n",
       " 'cerebro',\n",
       " 'pecho',\n",
       " 'isla',\n",
       " 'voz',\n",
       " 'belleza',\n",
       " '_steamer_',\n",
       " 'salutación',\n",
       " 'memoria',\n",
       " 'compañera',\n",
       " 'Annie',\n",
       " 'alfabeto',\n",
       " 'juventud',\n",
       " 'espíritu']"
      ]
     },
     "execution_count": 40,
     "metadata": {},
     "output_type": "execute_result"
    }
   ],
   "source": [
    "#Utilizamos nltk.text.ContextIndex y idx.similar_words para guardar las palabras similares\n",
    "#Simililares no significa que sean sinonimos, sino que son palabras \n",
    "# que van a encontrarse en un contexto similar o tienen similitud con la palabra de busqueda\n",
    "x = nltk.text.ContextIndex(tokens).similar_words(\"madre\")\n",
    "x"
   ]
  },
  {
   "cell_type": "code",
   "execution_count": 42,
   "metadata": {},
   "outputs": [
    {
     "data": {
      "image/png": "[encoded data removed]",
      "text/plain": [
       "<Figure size 432x288 with 1 Axes>"
      ]
     },
     "metadata": {
      "needs_background": "light"
     },
     "output_type": "display_data"
    }
   ],
   "source": [
    "#Gráfica donde se muestra el número de aparición de una palabra \n",
    "\n",
    "tokens=nltk.word_tokenize(texto,\"spanish\") \n",
    "texto_nltk=nltk.Text(tokens) \n",
    "lista_palabras=[\"las\",\"los\",\"el\",\"ella\",\"ensueño\",\"resplandor\",\"padre\",\"madre\"] \n",
    "texto_nltk.dispersion_plot(lista_palabras)"
   ]
  },
  {
   "cell_type": "code",
   "execution_count": 43,
   "metadata": {
    "scrolled": true
   },
   "outputs": [
    {
     "name": "stdout",
     "output_type": "stream",
     "text": [
      "[(',', 1078), ('de', 639), ('la', 414), ('y', 367), ('que', 345), ('.', 309), ('en', 299), ('el', 290), ('a', 179), ('un', 153), ('los', 147), ('su', 135), ('!', 131), ('las', 123), ('del', 113), ('--', 108), ('se', 107), ('una', 106), (';', 104), ('mi', 103), ('al', 94), ('por', 87), ('más', 84), ('no', 78), ('con', 73), ('como', 72), ('sobre', 65), ('es', 63), ('sus', 62), (':', 61), ('«', 51), ('tu', 51), ('me', 51), ('»', 49), ('lo', 44), ('alma', 41), ('...', 38), ('todo', 36), ('?', 36), ('para', 35), ('noche', 34), ('ojos', 33), ('Y', 32), ('ha', 31), ('ese', 28), ('era', 28), ('corazón', 27), ('esa', 27), ('jamás', 27), ('tan', 26), ('o', 25), ('ya', 24), ('cual', 24), ('En', 22), ('han', 22), ('amor', 21), ('sin', 21), ('ni', 20), ('siempre', 20), ('nos', 19), ('te', 19), ('le', 19), ('Poe', 19), ('tiempo', 19), ('bajo', 18), ('si', 18), ('él', 18), ('mí', 18), ('dan', 18), ('Pero', 17), ('cuando', 17), ('La', 17), ('donde', 16), ('El', 16), ('estrellas', 16), ('*', 16), ('cada', 16), ('cuervo', 16), ('pero', 16), ('ahora', 16), ('todas', 15), ('nombre', 15), ('esta', 15), ('Dios', 15), ('tus', 15), ('luz', 15), ('A', 14), ('esos', 14), ('porque', 14), ('son', 14), ('cielo', 14), ('espíritu', 14), ('mismo', 14), ('ella', 14), ('frente', 13), ('mar', 13), ('ti', 13), ('mundo', 13), ('entre', 13), ('aquella', 13), ('todos', 13), ('así', 13), ('hasta', 13), ('triste', 13), ('través', 13), ('allá', 13), ('fué', 13), ('fin', 13), ('sino', 13), ('mientras', 13), ('¡Oh', 13), ('entonces', 12), ('otra', 12), ('vida', 12), ('qué', 12), ('sombra', 12), ('dije', 12), ('aquel', 11), ('toda', 11), ('tierra', 11), ('está', 11), ('Por', 11), ('este', 11), ('desde', 11), ('muerte', 11), ('oro', 11), ('hombre', 11), ('nada', 11), ('menos', 11), ('yo', 11), ('tumba', 11), ('cielos', 11), ('fuera', 11), ('voz', 10), ('De', 10), ('parece', 10), ('llama', 10), ('aire', 10), ('alas', 10), ('día', 10), ('mirada', 10), ('poeta', 10), ('palabras', 10), ('tanto', 10), ('sólo', 10), ('esas', 10), ('miradas', 10), ('din', 10), ('tú', 9), ('eres', 9), ('región', 9), ('ser', 9), ('he', 9), ('ángeles', 9), ('hacia', 9), ('mis', 9), ('estaba', 9), ('No', 9), ('Una', 9), ('os', 9), ('esperanza', 9), ('sueño', 9), ('¡Nunca', 9), ('gran', 8), ('tal', 8), ('bien', 8), ('fuerza', 8), ('instante', 8), ('ensueño', 8), ('brillante', 8), ('extraña', 8), ('Eulalia', 8), ('Cielo', 8), ('lago', 8), ('Luna', 8), ('Annabel', 8), ('Lee', 8), ('EL', 8), ('bella', 8), ('misterio', 8), ('aquellos', 8), ('muy', 8), ('edad', 8), ('belleza', 8), ('....', 8), ('sea', 8), ('alguna', 8), ('(', 8), (')', 8), ('hora', 8), ('pensamientos', 8), ('ninguna', 8), ('LA', 8), ('puerta', 8), ('has', 8), ('vez', 7), ('largo', 7), ('modo', 7), ('torres', 7), ('recuerdo', 7), ('sér', 7), ('Es', 7), ('rosas', 7), ('calma', 7), ('medio', 7), ('hay', 7), ('puede', 7), ('Los', 7), ('hace', 7), ('¡Qué', 7), ('dos', 7), ('cosas', 7), ('otro', 7), ('reposo', 7), ('dulcemente', 7), ('lecho', 7), ('sombras', 7), ('onda', 7), ('nota', 7), ('suena', 7), ('país', 6), ('mano', 6), ('són', 6), ('tiene', 6), ('¡oh', 6), ('hecho', 6), ('casi', 6), ('pronto', 6), ('ciudad', 6), ('des', 6), ('ola', 6), ('negra', 6), ('ningún', 6), ('Su', 6), ('algún', 6), ('dulce', 6), ('cuya', 6), ('Annie', 6), ('busto', 6), ('forma', 6), ('sido', 6), ('gloria', 6), ('quien', 6), ('podría', 6), ('viejo', 6), ('eso', 6), ('reino', 6), ('luna', 6), ('querida', 6), ('madre', 6), ('muerto', 6), ('oscura', 6), ('seno', 6), ('nunca', 6), ('aguas', 6), ('resplandor', 6), ('haya', 6), ('toque', 6), ('poderío', 6), ('1827', 6), ('bosques', 6), ('Dijo', 6), ('fría', 5), ('primera', 5), ('viento', 5), ('negro', 5), ('ver', 5), ('cabeza', 5), ('bronce', 5), ('Yo', 5), ('soplo', 5), ('cerca', 5), ('pecho', 5), ('uno', 5), ('poesía', 5), ('días', 5), ('hombres', 5), ('allí', 5), ('quiere', 5), ('pasar', 5), ('dice', 5), ('razón', 5), ('imperio', 5), ('drama', 5), ('crece', 5), ('mejor', 5), ('después', 5), ('Leonora', 5), ('velo', 5), ('siento', 5), ('Desde', 5), ('pasado', 5), ('extraño', 5), ('dejado', 5), ('duda', 5), ('expresión', 5), ('otros', 5), ('Era', 5), ('pensamiento', 5), ('veces', 5), ('sí', 5), ('pudo', 5), ('lugar', 5), ('mal', 5), ('niña', 5), ('lejos', 5), ('Porque', 5), ('levantan', 5), ('lágrimas', 5), ('alrededor', 5), ('Eldorado', 5), ('suspiro', 5), ('¡Y', 5), ('mares', 5), ('todavía', 5), ('feliz', 5), ('aunque', 5), ('terror', 5), ('rayos', 5), ('orgullo', 5), ('campana', 5), ('sigue', 5), ('dobla', 5), ('temor', 4), ('paso', 4), ('movimiento', 4), ('joven', 4), ('solo', 4), ('almas', 4), ('solitaria', 4), ('Señor', 4), ('América', 4), ('esplendor', 4), ('Diana', 4), ('terrible', 4), ('Manhattan', 4), ('hierro', 4), ('suelo', 4), ('piedra', 4), ('cristal', 4), ('He', 4), ('pasa', 4), ('momento', 4), ('Un', 4), ('dama', 4), ('raro', 4), ('llamar', 4), ('vino', 4), ('Entonces', 4), ('cuyo', 4), ('visto', 4), ('plata', 4), ('lengua', 4), ('ellas', 4), ('palidez', 4), ('amada', 4), ('Weir', 4), ('Auber', 4), ('dolor', 4), ('arte', 4), ('libro', 4), ('nuestra', 4), ('rayo', 4), ('caballero', 4), ('nuevo', 4), ('tienen', 4), ('pálido', 4), ('retratos', 4), ('éste', 4), ('cómo', 4), ('niño', 4), ('persona', 4), ('algo', 4), ('ellos', 4), ('parte', 4), ('abierta', 4), ('Mas', 4), ('llaman', 4), ('fantasía', 4), ('profunda', 4), ('DE', 4), ('años', 4), ('nube', 4), ('alegría', 4), ('ahí', 4), ('recuerdos', 4), ('1849', 4), ('fiebre', 4), ('Las', 4), ('suspiros', 4), ('sed', 4), ('¡Ah', 4), ('oscuro', 4), ('reposa', 4), ('aquí', 4), ('bellos', 4), ('busca', 4), ('hallar', 4), ('fondo', 4), ('1845', 4), ('esto', 4), ('ido', 4), ('lloro', 4), ('¿no', 4), ('seguro', 4), ('cosa', 4), ('trono', 4), ('paz', 4), ('soledad', 4), ('espectro', 4), ('¡ay', 4), ('bruma', 4), ('ventana', 4), ('alto', 4), ('profundo', 4), ('¡Que', 4), ('negros', 4), ('piedras', 4), ('antes', 4), ('Aquí', 4), ('punto', 4), ('horror', 4), ('mortales', 4), ('presa', 4), ('Psiquis', 4), ('ensueños', 4), ('1829', 4), ('¿Qué', 4), ('fúnebre', 4), ('intenso', 4), ('ante', 4), ('extiende', 4), ('hojas', 4), ('I', 4), ('campanas', 4), ('II', 4), ('III', 4), ('pavura', 4), ('IV', 4), ('doliente', 4), ('don', 4), ('octubre', 4), ('avenida', 4), ('infausta', 4), ('senda', 4), ('lagos', 4), ('¡y', 4), ('ave', 4), ('atrás', 3), ('Island', 3), ('partes', 3), ('mismas', 3), ('ondas', 3), ('vapor', 3), ('sol', 3), ('Sobre', 3), ('pequeña', 3), ('durante', 3), ('pudiera', 3), ('antorcha', 3), ('queda', 3), ('lado', 3), ('Libertad', 3), ('brota', 3), ('enorme', 3), ('cuyas', 3), ('isla', 3), ('divina', 3), ('delante', 3), ('sé', 3), ('mucho', 3), ('lleva', 3), ('vista', 3), ('contempla', 3), ('viene', 3), ('Se', 3), ('vasto', 3), ('juventud', 3), ('va', 3), ('vio', 3), ('tantas', 3), ('impresión', 3), ('cuyos', 3), ('río', 3), ('ruido', 3), ('Esos', 3), ('estos', 3), ('Calibán', 3), ('reina', 3), ('materia', 3), ('genio', 3), ('voluntad', 3), ('poderosos', 3), ('eterna', 3), ('ideal', 3), ('contra', 3), ('conocido', 3), ('¿Por', 3), ('imagen', 3), ('memoria', 3), ('vestido', 3), ('faz', 3), ('sonrisa', 3), ('oh', 3), ('lejanos', 3), ('cabellos', 3), ('llamada', 3), ('Ulalume', 3), ('sombrío', 3), ('perla', 3), ('claridad', 3), ('lunar', 3), ('coro', 3), ('lírico', 3), ('cruel', 3), ('aun', 3), ('Tu', 3), ('honda', 3), ('obra', 3), ('maravilloso', 3), ('cierto', 3), ('propio', 3), ('imaginación', 3), ('lejano', 3), ('claro', 3), ('Arnoldo', 3), ('noble', 3), ('da', 3), ('viril', 3), ('dio', 3), ('ardiente', 3), ('pobre', 3), ('artista', 3), ('había', 3), ('Mr', 3), ('Clarke', 3), ('llegado', 3), ('conocer', 3), ('haber', 3), ('querido', 3), ('tristeza', 3), ('vago', 3), ('fatal', 3), ('quizá', 3), ('e', 3), ('tarde', 3), ('apenas', 3), ('deja', 3), ('hablan', 3), ('Más', 3), ('Ya', 3), ('tranquila', 3), ('dijo', 3), ('Me', 3), ('estoy', 3), ('misma', 3), ('pues', 3), ('hermoso', 3), ('eterno', 3), ('fuerte', 3), ('cerebro', 3), ('hubiera', 3), ('brilla', 3), ('encima', 3), ('Son', 3), ('labios', 3), ('Naturaleza', 3), ('propia', 3), ('dicho', 3), ('Muerte', 3), ('suerte', 3), ('sepulcro', 3), ('nosotros', 3), ('nuestro', 3), ('saber', 3), ('resplandece', 3), ('compañera', 3), ('encontrar', 3), ('santuario', 3), ('Mi', 3), ('amaba', 3), ('desaparecido', 3), ('¿qué', 3), ('importa', 3), ('tranquilamente', 3), ('agua', 3), ('apaga', 3), ('poco', 3), ('yace', 3), ('profundamente', 3), ('llegó', 3), ('cayó', 3), ('montañas', 3), ('valle', 3), ('podrá', 3), ('violetas', 3), ('erigido', 3), ('malos', 3), ('templos', 3), ('vientos', 3), ('desciende', 3), ('losa', 3), ('existido', 3), ('producido', 3), ('abajo', 3), ('horas', 3), ('media', 3), ('quisiera', 3), ('duerme', 3), ('espíritus', 3), ('árboles', 3), ('adormecida', 3), ('pie', 3), ('fantasmas', 3), ('silencio', 3), ('velos', 3), ('pueda', 3), ('bosque', 3), ('ecos', 3), ('hija', 3), ('soy', 3), ('dichosa', 3), ('ágil', 3), ('vagos', 3), ('misterios', 3), ('veo', 3), ('melodía', 3), ('sudario', 3), ('emblema', 3), ('alegre', 3), ('nupcial', 3), ('pudor', 3), ('invencible', 3), ('inmóvil', 3), ('pájaro', 3), ('tiempos', 3), ('nocturno', 3), ('vano', 3), ('solitario', 3), ('única', 3), ('éter', 3), ('flota', 3), ('rojo', 3), ('cuál', 3), ('clama', 3), ('lento', 3), ('dobles', 3), ('lúgubre', 3), ('tristes', 3), ('espectral', 3), ('blanca', 3), ('muere', 3), ('león', 3), ('sigamos', 3), ('límpida', 3), ('parque', 3), ('Tiempo', 3), ('Espacio', 3), ('oí', 3), ('tregua', 3), ('alcoba', 3), ('fijo', 3), ('dime', 3), ('profeta', 3), ('mañana', 2), ('llegué', 2), ('inmenso', 2), ('Estados', 2), ('Unidos', 2), ('_steamer_', 2), ('choque', 2), ('frío', 2), ('Entre', 2), ('brumas', 2), ('islas', 2), ('inmensa', 2), ('hermosura', 2), ('máquina', 2), ('cubierta', 2), ('ancho', 2), ('muchacha', 2), ('bebé', 2), ('impulso', 2), ('levantando', 2), ('simbólica', 2), ('salutación', 2), ('corazones', 2), ('magnífica', 2), ('estatua', 2), ('brotar', 2), ('Allí', 2), ('están', 2), ('brillantes', 2), ('vuelo', 2), ('águila', 2), ('llena', 2), ('coronada', 2), ('sentís', 2), ('Nueva', 2), ('York', 2), ('Brooklyn', 2), ('palpitante', 2), ('acero', 2), ('campanarios', 2), ('cree', 2), ('eco', 2), ('cifras', 2), ('¡Cuán', 2), ('canción', 2), ('colosal', 2), ('cae', 2), ('cúpulas', 2), ('produciendo', 2), ('metálico', 2), ('entrar', 2), ('lúgubres', 2), ('les', 2), ('antiguos', 2), ('banco', 2), ('muros', 2), ('hacen', 2), ('Broadway', 2), ('dolorosa', 2), ('forman', 2), ('llega', 2), ('angustia', 2), ('hormiguero', 2), ('gigantescos', 2), ('tranvía', 2), ('comprar', 2), ('siente', 2), ('sonoro', 2), ('corre', 2), ('muchedumbre', 2), ('Boston', 2), ('Washington', 2), ('Ha', 2), ('estado', 2), ('superior', 2), ('naturaleza', 2), ('tiende', 2), ('Esto', 2), ('Edgar', 2), ('Allan', 2), ('cisne', 2), ('desdichado', 2), ('Stella', 2), ('puse', 2), ('leer', 2), ('versos', 2), ('legendario', 2), ('encierra', 2), ('castas', 2), ('polvo', 2), ('místico', 2), ('hermana', 2), ('inglesa', 2), ('soñador', 2), ('príncipe', 2), ('poetas', 2), ('infinito', 2), ('blancas', 2), ('pasan', 2), ('maravilla', 2), ('ángel', 2), ('esposa', 2), ('Irene', 2), ('venida', 2), ('Edén', 2), ('nebulosa', 2), ('serafines', 2), ('Ligeia', 2), ('ideales', 2), ('quienes', 2), ('montaña', 2), ('buitre', 2), ('Palas', 2), ('tortura', 2), ('palabra', 2), ('Así', 2), ('humana', 2), ('viaje', 2), ('fuerzas', 2), ('invisible', 2), ('luminoso', 2), ('simbólico', 2), ('noches', 2), ('influencia', 2), ('universal', 2), ('sean', 2), ('acá', 2), ('americano', 2), ('Ingram', 2), ('traducción', 2), ('Sr.', 2), ('Mayer', 2), ('valor', 2), ('odioso', 2), ('moral', 2), ('ilustre', 2), ('difunto', 2), ('debía', 2), ('material', 2), ('dón', 2), ('nacer', 2), ('Le', 2), ('Poer', 2), ('lanza', 2), ('siglos', 2), ('ciertamente', 2), ('averiguar', 2), ('efectos', 2), ('linaje', 2), ('según', 2), ('hoy', 2), ('Sábese', 2), ('hubo', 2), ('sir', 2), ('mujer', 2), ('primer', 2), ('teatro', 2), ('inteligente', 2), ('nació', 2), ('melancólico', 2), ('visionario', 2), ('personas', 2), ('retrato', 2), ('grabado', 2), ('Si', 2), ('rostro', 2), ('justa', 2), ('Chiffart', 2), ('edición', 2), ('ambos', 2), ('Elena', 2), ('quedó', 2), ('trémulo', 2), ('boca', 2), ('gesto', 2), ('ancha', 2), ('sufrimiento', 2), ('mayor', 2), ('habla', 2), ('encantador', 2), ('aspecto', 2), ('fisonomía', 2), ('compañeros', 2), ('nervioso', 2), ('amable', 2), ('dar', 2), ('buena', 2), ('señora', 2), ('muchacho', 2), ('Cuando', 2), ('entra', 2), ('tenía', 2), ('damas', 2), ('mirar', 2), ('eminencia', 2), ('Otra', 2), ('recuerda', 2), ('verdad', 2), ('cara', 2), ('largas', 2), ('azabache', 2), ('gris', 2), ('cristalina', 2), ('pupila', 2), ('veía', 2), ('emoción', 2), ('parecía', 2), ('sangre', 2), ('vuelta', 2), ('lentamente', 2), ('agrega', 2), ('cubría', 2), ('completamente', 2), ('labio', 2), ('mofa', 2), ('embargo', 2), ('hijos', 2), ('Byron', 2), ('enfermedad', 2), ('humano', 2), ('recogió', 2), ('intelectual', 2), ('hijo', 2), ('brillo', 2), ('fuese', 2), ('_ensueño_', 2), ('escuela', 2), ('fantástico', 2), ('producir', 2), ('musical', 2), ('familia', 2), ('miran', 2), ('conoció', 2), ('Hombre', 2), ('bebe', 2), ('Ciencia', 2), ('atmósfera', 2), ('borde', 2), ('filosófica', 2), ('fe', 2), ('destinos', 2), ('creía', 2), ('olvidando', 2), ('ad', 2), ('penetra', 2), ('necesario', 2), ('Este', 2), ('existencia', 2), ('suprema', 2), ('imparticulada', 2), ('extraños', 2), ('vivía', 2), ('Esa', 2), ('envidiaban', 2), ('bastante', 2), ('descendió', 2), ('felices', 2), ('tendido', 2), ('_Soneto_', 2), ('oído', 2), ('pueden', 2), ('vos', 2), ('vivir', 2), ('presente', 2), ('creería', 2), ('creyéndome', 2), ('lamentaciones', 2), ('gemidos', 2), ('horrible', 2), ('palpitación', 2), ('cesado', 2), ('corriente', 2), ('bebido', 2), ('sonido', 2), ('fuente', 2), ('santa', 2), ('fragancia', 2), ('romero', 2), ('perennes', 2), ('constancia', 2), ('beso', 2), ('adormecido', 2), ('creéis', 2), ('cabalgad', 2), ('radiante', 2), ('compararse', 2), ('bucle', 2), ('descuidado', 2), ('Astarté', 2), ('levanta', 2), ('UN', 2), ('ENSUEÑO', 2), ('EN', 2), ('visión', 2), ('Todo', 2), ('vemos', 2), ('encuentro', 2), ('tengo', 2), ('¡Dios', 2), ('mío', 2), ('vacío', 2), ('¡Ved', 2), ('palacios', 2), ('agitan', 2), ('resignadas', 2), ('reposan', 2), ('melancólicas', 2), ('silenciosamente', 2), ('cimas', 2), ('sombría', 2), ('abandonada', 2), ('hiedra', 2), ('frisos', 2), ('Bajo', 2), ('torre', 2), ('orgullosa', 2), ('Allá', 2), ('joyas', 2), ('agita', 2), ('hunden', 2), ('taciturna', 2), ('roja', 2), ('mil', 2), ('tronos', 2), ('mes', 2), ('mística', 2), ('rocío', 2), ('parecido', 2), ('despertar', 2), ('ved', 2), ('¿por', 2), ('persiana', 2), ('seres', 2), ('turba', 2), ('cámara', 2), ('cerrado', 2), ('esconde', 2), ('miedo', 2), ('venido', 2), ('solemne', 2), ('oscuros', 2), ('otras', 2), ('funerarios', 2), ('lejana', 2), ('pecado', 2), ('muertos', 2), ('corona', 2), ('pálida', 2), ('dorada', 2), ('Roma', 2), ('sublimes', 2), ('Al', 2), ('grandeza', 2), ('desolación', 2), ('encantada', 2), ('héroe', 2), ('brillaba', 2), ('cabellera', 2), ('inclinaba', 2), ('casa', 2), ('ruina', 2), ('¿es', 2), ('pálidas', 2), ('manto', 2), ('últimos', 2), ('contemplar', 2), ('esperanzas', 2), ('baja', 2), ('pobres', 2), ('desgracia', 2), ('será', 2), ('fantasma', 2), ('vuelve', 2), ('cesar', 2), ('locura', 2), ('actores', 2), ('¡Cómo', 2), ('gusano', 2), ('luces', 2), ('tempestad', 2), ('viajero', 2), ('ribera', 2), ('náyade', 2), ('1831', 2), ('Como', 2), ('ala', 2), ('¿No', 2), ('selva', 2), ('asilo', 2), ('estrella', 2), ('SEÑORITA', 2), ('terrestre', 2), ('olvidados', 2), ('destino', 2), ('cuales', 2), ('hecha', 2), ('celeste', 2), ('caen', 2), ('despierto', 2), ('tiembla', 2), ('buscan', 2), ('Te', 2), ('vi', 2), ('tuyo', 2), ('esencia', 2), ('pesar', 2), ('rodeada', 2), ('dicha', 2), ('LOS', 2), ('sola', 2), ('tranquilo', 2), ('Aunque', 2), ('serena', 2), ('órbitas', 2), ('rojas', 2), ('marchito', 2), ('visiones', 2), ('alturas', 2), ('fijos', 2), ('horizonte', 2), ('dulces', 2), ('LAS', 2), ('Valles', 2), ('nadie', 2), ('gota', 2), ('oscurecen', 2), ('hadas', 2), ('dejan', 2), ('astro', 2), ('descender', 2), ('tanta', 2), ('altos', 2), ('consuelo', 2), ('viva', 2), ('demasiado', 2), ('semejante', 2), ('Que', 2), ('hayan', 2), ('huraño', 2), ('dominar', 2), ('también', 2), ('POR', 2), ('retintín', 2), ('rima', 2), ('rúnica', 2), ('último', 2), ('dilín', 2), ('ignota', 2), ('cuán', 2), ('toca', 2), ('fuego', 2), ('volcánico', 2), ('avanza', 2), ('rebato', 2), ('clamor', 2), ('rueda', 2), ('implacable', 2), ('espectros', 2), ('Rey', 2), ('resuena', 2), ('funeral', 2), ('mustias', 2), ('inmemorial', 2), ('mudas', 2), ('fúnebres', 2), ('Yanek', 2), ('recordamos', 2), ('desventura', 2), ('fantasmático', 2), ('ve', 2), ('V', 2), ('Para', 2), ('dejó', 2), ('plumas', 2), ('sollozando', 2), ('pura', 2), ('playa', 2), ('detuvo', 2), ('Bien', 2), ('mudo', 2), ('diáfana', 2), ('exhalaban', 2), ('extática', 2), ('fantásticas', 2), ('oía', 2), ('_tú_', 2), ('_yo_', 2), ('repente', 2), ('hondas', 2), ('misteriosos', 2), ('deslizas', 2), ('marcan', 2), ('siguiéndome', 2), ('fijas', 2), ('recorren', 2), ('Deidad', 2), ('Noche', 2), ('Thule', 2), ('contornos', 2), ('cavernas', 2), ('insondables', 2), ('amigos', 2), ('pesares', 2), ('transido', 2), ('paseado', 2), ('tímida', 2), ('tocar', 2), ('procurando', 2), ('virgen', 2), ('¡nunca', 2), ('visitante', 2), ('repetía', 2), ('puertas', 2), ('estancia', 2), ('mas', 2), ('caso', 2), ('gentileza', 2), ('abrí', 2), ('quedé', 2), ('sueños', 2), ('ornamenta', 2), ('grave', 2), ('infausto', 2), ('respuesta', 2), ('moldura', 2), ('efigie', 2), ('cornisa', 2), ('pluma', 2), ('aprendido', 2), ('persiguiera', 2), ('terciopelo', 2), ('diablo', 2), ('PRÓLOGO', 1), ('húmeda', 1), ('Iba', 1), ('despacio', 1), ('sirena', 1), ('aullaba', 1), ('roncamente', 1), ('Quedaba', 1), ('Fire', 1), ('erecto', 1), ('faro', 1), ('estábamos', 1), ('Sandy', 1), ('Hook', 1), ('salió', 1), ('barco', 1), ('sanidad', 1), ('ladrante', 1), ('slang', 1), ('yanqui', 1), ('sonaba', 1), ('pabellón', 1), ('bandas', 1), ('pitos', 1), ('arromadizados', 1), ('humo', 1), ('chimeneas', 1), ('máquinas', 1), ('ventrudas', 1), ('estañado', 1), ('caminaba', 1), ('rumbo', 1), ('bahía', 1), ('decía', 1), ('_all', 1), ('right_', 1), ('divisaban', 1), ('barcos', 1), ('Long', 1), ('desarrollaba', 1), ('cinta', 1), ('costas', 1), ('Staten', 1), ('marco', 1), ('viñeta', 1), ('presentaba', 1), ('tentando', 1), ('lápiz', 1), ('falta', 1), ('fotográfica', 1), ('agrupan', 1), ('pasajeros', 1), ('comerciante', 1), ('gruesa', 1), ('panza', 1), ('congestionado', 1), ('pavo', 1), ('encorvadas', 1), ('narices', 1), ('israelitas', 1), ('clergyman', 1), ('huesoso', 1), ('enfundado', 1), ('levitón', 1), ('cubierto', 1), ('sombrero', 1), ('fieltro', 1), ('Biblia', 1), ('usa', 1), ('gorra', 1), ('jockey', 1), ('travesía', 1), ('cantado', 1), ('fonográfica', 1), ('banjo', 1), ('robusto', 1), ('lampiño', 1), ('aficionado', 1), ('box', 1), ('puños', 1), ('desquijarrar', 1), ('rinoceronte', 1), ('Narrows', 1), ('alcanza', 1), ('pintoresca', 1), ('florida', 1), ('fortalezas', 1), ('Luego', 1), ('gigantesca', 1), ('Madona', 1), ('peana', 1), ('islote', 1), ('prolífica', 1), ('dominadora', 1), ('Nuestra', 1), ('Señora', 1), ('mamas', 1), ('alimentan', 1), ('sinnúmero', 1), ('alzas', 1), ('saludo', 1), ('prosternándome', 1), ('majestad', 1), ('¡Ave', 1), ('Good', 1), ('morning', 1), ('divino', 1), ('icono', 1), ('magna', 1), ('excelsa', 1), ('beldad', 1), ('encarnas', 1), ('manera', 1), ('_fiat_', 1), ('listas', 1), ('bandera', 1), ('iluminan', 1), ('formidable', 1), ('azules', 1), ('Ave', 1), ('contigo', 1), ('bendita', 1), ('¿sabes', 1), ('herido', 1), ('divinidad', 1), ('manchando', 1), ('Anda', 1), ('usurpado', 1), ('tea', 1), ('Aquélla', 1), ('sagrada', 1), ('incomparables', 1), ('flechas', 1), ('Hécate.', 1), ('Hecha', 1), ('masa', 1), ('subyugador', 1), ('sanguínea', 1), ('ciclópea', 1), ('monstruosa', 1), ('tormentosa', 1), ('irresistible', 1), ('capital', 1), ('cheque', 1), ('Rodeada', 1), ('menores', 1), ('Jersey', 1), ('agarrada', 1), ('uña', 1), ('puente', 1), ('ramillete', 1), ('oír', 1), ('soliloquio', 1), ('distinta', 1), ('París', 1), ('escucharla', 1), ('acercarse', 1), ('halagadora', 1), ('verse', 1), ('surgir', 1), ('Tío', 1), ('Samuel', 1), ('pueblos', 1), ('inaudito', 1), ('remate', 1), ('martillo', 1), ('rematador', 1), ('techumbres', 1), ('ensordecedor', 1), ('trueno', 1), ('Antes', 1), ('monstruo', 1), ('poema', 1), ('bárbaro', 1), ('vidente', 1), ('Thogorma', 1), ('_Thogorma', 1), ('dans', 1), ('ses', 1), ('yeux', 1), ('vit', 1), ('monter', 1), ('murailles', 1), ('fer', 1), ('dont', 1), (\"s'enroulaient\", 1), ('spirales', 1), ('tours', 1), ('et', 1), ('palais', 1), ('cerclés', 1), (\"d'arain\", 1), ('sur', 1), ('blocs', 1), ('lourds', 1), ('ruche', 1), ('énorme', 1), ('géhenne', 1), ('aux', 1), ('entrailles', 1), ('oú', 1), (\"s'engouffraint\", 1), ('Forts', 1), ('princes', 1), ('anciens', 1), ('jours._', 1), ('Semejantes', 1), ('Fuertes', 1), ('viven', 1), ('fabulosa', 1), ('Babel', 1), ('gritan', 1), ('mugen', 1), ('resuenan', 1), ('braman', 1), ('conmueven', 1), ('Bolsa', 1), ('locomotora', 1), ('fragua', 1), ('imprenta', 1), ('dock', 1), ('urna', 1), ('electoral', 1), ('edificio', 1), ('Produce', 1), ('Exchange', 1), ('granito', 1), ('reúne', 1), ('cuantas', 1), ('pueblo', 1), ('experimenta', 1), ('dominio', 1), ('vértigo', 1), ('canal', 1), ('lados', 1), ('casas', 1), ('monumentales', 1), ('ostentan', 1), ('cien', 1), ('vidrio', 1), ('tatuajes', 1), ('rótulos', 1), ('caudaloso', 1), ('confuso', 1), ('comerciantes', 1), ('corredores', 1), ('caballos', 1), ('tranvías', 1), ('ómnibus', 1), ('hombres-sandwichs', 1), ('vestidos', 1), ('anuncios', 1), ('mujeres', 1), ('bellísimas', 1), ('Abarcando', 1), ('arteria', 1), ('hervor', 1), ('continuo', 1), ('sentirse', 1), ('ciertas', 1), ('pesadillas', 1), ('Reina', 1), ('percherones', 1), ('carros', 1), ('monstruosos', 1), ('clase', 1), ('vehículos', 1), ('vendedor', 1), ('periódicos', 1), ('rosado', 1), ('risueño', 1), ('salta', 1), ('gorrión', 1), ('grita', 1), ('pasajero', 1), ('_¡intanrsooonwoood', 1), ('_', 1), ('decir', 1), ('gustáis', 1), ('cualquiera', 1), ('tres', 1), ('diarios', 1), ('_Evening', 1), ('Telegram_', 1), ('_el', 1), ('Sun_', 1), ('_World_', 1), ('mareador', 1), ('trepidación', 1), ('incesante', 1), ('repiqueteo', 1), ('cascos', 1), ('ruedas', 1), ('aumentarse', 1), ('Temeríase', 1), ('fracaso', 1), ('conociese', 1), ('alud', 1), ('exactitud', 1), ('intrincado', 1), ('convulsivo', 1), ('crespo', 1), ('sucede', 1), ('lady', 1), ('anciana', 1), ('capota', 1), ('miss', 1), ('rubia', 1), ('nodriza', 1), ('acera', 1), ('corpulento', 1), ('policeman', 1), ('alza', 1), ('detiénese', 1), ('torrente', 1), ('¡all', 1), ('right', 1), ('cíclopes', 1), ('Groussac', 1), ('feroces', 1), ('calibanes', 1), ('escribe', 1), ('Peladan', 1), ('¿Tuvo', 1), ('Sar', 1), ('Norte', 1), ('San', 1), ('Francisco', 1), ('conseguido', 1), ('establecer', 1), ('misterioso', 1), ('Edison', 1), ('apoteosis', 1), ('puerco', 1), ('abrumadora', 1), ('Chicago', 1), ('satura', 1), ('wishky', 1), ('Shakespeare', 1), ('desarrolla', 1), ('esclavo', 1), ('Próspero', 1), ('martirizado', 1), ('engorda', 1), ('multiplica', 1), ('Legión', 1), ('suele', 1), ('monstruos', 1), ('Miranda', 1), ('mueve', 1), ('Sicorax', 1), ('destierra', 1), ('mata', 1), ('mía', 1), ('presto', 1), ('ida', 1), ('recorrer', 1), ('hirviente', 1), ('harmonioso', 1), ('vaga', 1), ('desfilar', 1), ('procesión', 1), ('enamoradas', 1), ('liliales', 1), ('vírgenes', 1), ('cantadas', 1), ('brumosa', 1), ('infeliz', 1), ('malditos', 1), ('Tú', 1), ('Frente', 1), ('balcón', 1), ('Paraíso', 1), ('asoma', 1), ('generosos', 1), ('profundos', 1), ('hermanas', 1), ('saludan', 1), ('virtud', 1), ('consolador', 1), ('marea', 1), ('segunda', 1), ('violeta', 1), ('dirige', 1), ('tercera', 1), ('radiosa', 1), ('distante', 1), ('Francés', 1), ('penas', 1), ('yerra', 1), ('Helen', 1), ('ósculos', 1), ('caricias', 1), ('oraciones', 1), ('adorado', 1), ('amó', 1), ('envidia', 1), ('Isabel', 1), ('amantes', 1), ('coloquios', 1), ('meditabunda', 1), ('envuelta', 1), ('extraterrestre', 1), ('Ellas', 1), ('cándido', 1), ('oceánidos', 1), ('consuelan', 1), ('enjugan', 1), ('Prometeo', 1), ('amarrado', 1), ('Yankee', 1), ('esquiliano', 1), ('sentado', 1), ('apuñaleándole', 1), ('monótona', 1), ('desesperanza', 1), ('martirios', 1), ('refrescas', 1), ('alientas', 1), ('partiste', 1), ('retorno', 1), ('inmortal', 1), ('faltan', 1), ('arco', 1), ('Alma', 1), ('oigo', 1), ('sonar', 1), ('escudo', 1), ('angélico', 1), ('surge', 1), ('incomparable', 1), ('guía', 1), ('inefable', 1), ('llevo', 1), ('incienso', 1), ('mirra', 1), ('cuna', 1), ('Esperanza', 1), ('HOMBRE', 1), ('suficientemente', 1), ('transcendente', 1), ('continua', 1), ('recordados', 1), ('año', 1), ('revista', 1), ('ocupen', 1), ('excelso', 1), ('críticos', 1), ('ensayistas', 1), ('iluminó', 1), ('aumentar', 1), ('publicación', 1), ('agradecer', 1), ('destinada', 1), ('grueso', 1), ('público', 1), ('¿Es', 1), ('número', 1), ('escogidos', 1), ('aristócratas', 1), ('pesado', 1), ('fárrago', 1), ('canino', 1), ('Griswold', 1), ('infame', 1), ('autopsia', 1), ('hizo', 1), ('tener', 1), ('protesta', 1), ('libre', 1), ('mancha', 1), ('inmaculado', 1), ('Ariel', 1), ('diríase', 1), ('flotante', 1), ('influjo', 1), ('Nacido', 1), ('práctica', 1), ('contrario', 1), ('cálculo', 1), ('estupenda', 1), ('mitológico', 1), ('atavismo', 1), ('vese', 1), ('azul', 1), ('nacieron', 1), ('antepasados', 1), ('Renace', 1), ('caballeresca', 1), ('alabados', 1), ('crónicas', 1), ('Generaldo', 1), ('Gambresio', 1), ('Irlanda', 1), ('1327', 1), ('insulto', 1), ('Mauricio', 1), ('Desmond', 1), ('Sois', 1), ('rimador.', 1), ('empuñan', 1), ('espadas', 1), ('traba', 1), ('riña', 1), ('prólogo', 1), ('guerra', 1), ('sangrienta', 1), ('Cinco', 1), ('descendiente', 1), ('provocativo', 1), ('glorificará', 1), ('raza', 1), ('erigiendo', 1), ('rico', 1), ('pedestal', 1), ('palacio', 1), ('rimas', 1), ('abolengo', 1), ('interesa', 1), ('gusto', 1), ('producidos', 1), ('peculiaridades', 1), ('mentales', 1), ('constitucionales', 1), ('Sra', 1), ('Whitman', 1), ('demás', 1), ('valer', 1), ('honra', 1), ('pastores', 1), ('protestantes', 1), ('tenderos', 1), ('rentistas', 1), ('mercachifles', 1), ('llevan', 1), ('apellido', 1), ('honorable', 1), ('padre', 1), ('patria', 1), ('Jorge', 1), ('bravo', 1), ('Rogerio', 1), ('batalló', 1), ('compañía', 1), ('Strongbow', 1), ('osado', 1), ('defendió', 1), ('_lady_', 1), ('acusada', 1), ('bruja', 1), ('heroica', 1), ('célebre', 1), ('_Condesa_', 1), ('Cromwell', 1), ('enredos', 1), ('genealógicos', 1), ('General', 1), ('abuelo', 1), ('Después', 1), ('trágico', 1), ('historia', 1), ('romancesca', 1), ('vagido', 1), ('coronas', 1), ('marchitas', 1), ('comedianta', 1), ('quedado', 1), ('huérfana', 1), ('tierna', 1), ('Amaba', 1), ('gracia', 1), ('envidiable', 1), ('corporal', 1), ('suyos', 1), ('ninguno', 1), ('idea', 1), ('especial', 1), ('descripciones', 1), ('muchas', 1), ('conocieron', 1), ('iconografía', 1), ('poeana', 1), ('debe', 1), ('representarle', 1), ('sirvió', 1), ('publicar', 1), ('copiaba', 1), ('trabajaba', 1), ('empresa', 1), ('protestó', 1), ('falsos', 1), ('publicaron', 1), ('calumniaron', 1), ('hermosa', 1), ('poética', 1), ('desfiguran', 1), ('dignos', 1), ('censura', 1), ('manos', 1), ('llamado', 1), ('atención', 1), ('publicado', 1), ('ilustrada', 1), ('Quantin', 1), ('_Cuentos', 1), ('extraordinarios_', 1), ('R.', 1), ('Loncup', 1), ('madura', 1), ('gallardo', 1), ('jovencito', 1), ('sensitivo', 1), ('Stannard', 1), ('Dante', 1), ('_Vita', 1), ('Nuova_', 1), ('sufrido', 1), ('conoce', 1), ('propias', 1), ('desgarradas', 1), ('carnes', 1), ('hieren', 1), ('asperezas', 1), ('primero', 1), ('hacer', 1), ('ornitomorfos', 1), ('trágica', 1), ('intentado', 1), ('pintar', 1), ('autor', 1), ('_Cuervo_', 1), ('_unhappy', 1), ('Master_', 1), ('segundo', 1), ('realidad', 1), ('contagiosa', 1), ('apretada', 1), ('entronizó', 1), ('pintan', 1), ('desgraciado', 1), ('infortunio', 1), ('precedieron', 1), ('Halpin', 1), ('Amstrong', 1), ('tipos', 1), ('lechuguinos', 1), ('época', 1), ('caras', 1), ('Clark', 1), ('Nada', 1), ('observación', 1), ('Gautier', 1), ('reputación', 1), ('fatigas', 1), ('estudio', 1), ('lucha', 1), ('torturas', 1), ('pasiones', 1), ('alterado', 1), ('primitiva', 1), ('máscara', 1), ('usada', 1), ('marchita', 1), ('puesto', 1), ('estigma', 1), ('magulladura', 1), ('arruga.', 1), ('prometía', 1), ('belleza.', 1), ('Sus', 1), ('colegio', 1), ('agilidad', 1), ('robustez', 1), ('temperamento', 1), ('estaban', 1), ('contrapesados', 1), ('músculos', 1), ('delicado', 1), ('sabía', 1), ('excelentes', 1), ('puñetazos', 1), ('dirá', 1), ('bonito.', 1), ('West', 1), ('Point', 1), ('notar', 1), ('colega', 1), ('Gibson', 1), ('cansada', 1), ('tediosa', 1), ('hastiada.', 1), ('recuérdale', 1), ('bibliófilo', 1), ('Gowans', 1), ('exterior', 1), ('notablemente', 1), ('agradable', 1), ('predisponía', 1), ('favor', 1), ('llamarían', 1), ('claramente', 1), ('bello.', 1), ('oye', 1), ('recitar', 1), ('realización', 1), ('manera.', 1), ('precioso', 1), ('femenina', 1), ('talla', 1), ('altura', 1), ('mediana', 1), ('perfectamente', 1), ('proporcionada', 1), ('llevada', 1), ('regiamente', 1), ('juicio', 1), ('causaba', 1), ('estatura', 1), ('dominante', 1), ('claros', 1), ('melancólicos', 1), ('parecían', 1), ('eran', 1), ('rasgo', 1), ('impresionaba', 1), ('atractivo', 1), ('peculiar', 1), ('Jamás', 1), ('parecieran', 1), ('Eran', 1), ('grandes', 1), ('pestañas', 1), ('iris', 1), ('poseía', 1), ('transparencia', 1), ('expandirse', 1), ('contraerse', 1), ('Observé', 1), ('párpados', 1), ('contraían', 1), ('usual', 1), ('principalmente', 1), ('encogimiento', 1), ('habitual', 1), ('soñadora', 1), ('algunas', 1), ('dirigir', 1), ('ligera', 1), ('soslayo', 1), ('observaba', 1), ('fija', 1), ('mentalmente', 1), ('midiendo', 1), ('calibre', 1), ('ajena', 1), ('ello.', 1), ('tremendos', 1), ('señor', 1), ('helar', 1), ('verle', 1), ('darse', 1), ('fijarlos', 1), ('hablando', 1), ('Usaba', 1), ('bigote', 1), ('esmeradamente', 1), ('cuidado', 1), ('ligeramente', 1), ('contraída', 1), ('tensión', 1), ('ocasional', 1), ('asemejaba', 1), ('Esta', 1), ('fácilmente', 1), ('excitada', 1), ('manifestaba', 1), ('perceptible', 1), ('intensamente', 1), ('expresivo', 1), ('malevolencia', 1), ('sarcasmo', 1), ('potente', 1), ('encerrada', 1), ('vaso', 1), ('Parece', 1), ('distinción', 1), ('dotes', 1), ('físicas', 1), ('deberían', 1), ('nativas', 1), ('portadores', 1), ('lira', 1), ('¿Apolo', 1), ('crinado', 1), ('numen', 1), ('prototipo', 1), ('nacen', 1), ('dote', 1), ('espléndido', 1), ('privilegiados', 1), ('Goethe', 1), ('Lamartine', 1), ('Nuestro', 1), ('organización', 1), ('vigorosa', 1), ('cultivada', 1), ('resistir', 1), ('dolencia', 1), ('médico', 1), ('escritor', 1), ('propiedad', 1), ('sublime', 1), ('apasionado', 1), ('divinos', 1), ('semilocos', 1), ('necesarios', 1), ('progreso', 1), ('lamentables', 1), ('cristos', 1), ('calle', 1), ('amargura', 1), ('espinas', 1), ('cruz', 1), ('Nació', 1), ('adorable', 1), ('alimentaba', 1), ('martirio', 1), ('huérfano', 1), ('adoptivo', 1), ('pasará', 1), ('porvenir', 1), ('imaginarse', 1), ('recitador', 1), ('alegraba', 1), ('veladas', 1), ('_home_', 1), ('egregio', 1), ('Arte', 1), ('niñez', 1), ('protector', 1), ('Londres', 1), ('dómine', 1), ('Brondeby', 1), ('despierta', 1), ('extrañas', 1), ('reminiscencias', 1), ('morada', 1), ('profesor', 1), ('hacerle', 1), ('subyugadoras', 1), ('páginas', 1), ('posee', 1), ('facultad', 1), ('matemática', 1), ('poblado', 1), ('quimeras', 1), ('carta', 1), ('astrólogo', 1), ('Vuelto', 1), ('vémosle', 1), ('Richmond', 1), ('nutre', 1), ('clásicos', 1), ('recita', 1), ('odas', 1), ('latinas', 1), ('boxea', 1), ('_champion_', 1), ('estudiantil', 1), ('carrera', 1), ('Atalanta', 1), ('aspiraba', 1), ('lauros', 1), ('natatorios', 1), ('descuella', 1), ('físicamente', 1), ('fofa', 1), ('aristocracia', 1), ('hombro', 1), ('cómica', 1), ('¿Cuánta', 1), ('hiel', 1), ('tuvo', 1), ('devorar', 1), ('exquisito', 1), ('humillado', 1), ('origen', 1), ('posteriores', 1), ('habría', 1), ('orgullosamente', 1), ('gloriarse', 1), ('primeros', 1), ('golpes', 1), ('empezaron', 1), ('cincelar', 1), ('pliegue', 1), ('amargo', 1), ('sarcástico', 1), ('temprano', 1), ('asechanzas', 1), ('lobo', 1), ('racional', 1), ('buscaba', 1), ('comunicación', 1), ('sana', 1), ('fortalecedora', 1), ('Odio', 1), ('detesto', 1), ('animal', 1), ('escribía', 1), ('Swift', 1), ('mezquina', 1), ('amistad', 1), ('fidelidad', 1), ('polvillo', 1), ('fruta', 1), ('gossamer', 1), ('fidelity', 1), ('mero', 1), ('Job', 1), ('_Eliphaz', 1), ('Themanita_', 1), ('exclama', 1), ('¿Cuánto', 1), ('abominable', 1), ('vil', 1), ('inquietud', 1), ('buscó', 1), ('apoyo', 1), ('oración', 1), ('creyente', 1), ('alejada', 1), ('misticismo', 1), ('James', 1), ('Russell', 1), ('Lowell', 1), ('llamarse', 1), ('matematicidad', 1), ('cerebración', 1), ('Hasta', 1), ('matemático', 1), ('impide', 1), ('penetrar', 1), ('tender', 1), ('verdades', 1), ('necesidad', 1), ('análisis', 1), ('condición', 1), ('algebraica', 1), ('hácele', 1), ('tristísimos', 1), ('arrastra', 1), ('desconocido', 1), ('especulación', 1), ('nubló', 1), ('debiera', 1), ('poseer', 1), ('verdadero', 1), ('obras', 1), ('unas', 1), ('escrito', 1), ('Cristo', 1), ('Profesaba', 1), ('cristiana', 1), ('cuanto', 1), ('ley', 1), ('fallo', 1), ('inexorable', 1), ('ecuación', 1), ('dominaba', 1), ('creencia', 1), ('referente', 1), ('tributos', 1), ('pensaba', 1), ('Spinosa', 1), ('invisibles', 1), ('objeto', 1), ('entendimiento', 1), ('percibirse', 1), ('demostración', 1), ('afirmación', 1), ('_Intelectus', 1), ('noster', 1), ('sic', 1), ('¿de', 1), ('habet', 1), ('prima', 1), ('entium', 1), ('quæ', 1), ('sunt', 1), ('manifestissima', 1), ('in', 1), ('natura', 1), ('sicut', 1), ('oculus', 1), ('vespertillionis', 1), ('solem._', 1), ('sobrenatural', 1), ('confesión', 1), ('afirmaba', 1), ('Creador', 1), ('modificarla', 1), ('narración', 1), ('metempsícosis', 1), ('definición', 1), ('tomada', 1), ('Granwill', 1), ('sustentada', 1), ('intensidad', 1), ('Lo', 1), ('Santo', 1), ('Tomás', 1), ('estas', 1), ('determinan', 1), ('desconocen', 1), ('determine', 1), ('determinador', 1), ('previene', 1), ('llamamos', 1), ('_Revelación', 1), ('Magnética_', 1), ('divagaciones', 1), ('filosóficas', 1), ('Vankirk', 1), ('personajes', 1), ('afirma', 1), ('comprensión', 1), ('diálogo', 1), ('Oinos', 1), ('Agathos', 1), ('pretende', 1), ('sondear', 1), ('inteligencia', 1), ('Monos', 1), ('Eros', 1), ('Charmion', 1), ('desconocida', 1), ('pocos', 1), ('vislumbres', 1), ('concepción', 1), ('espacio', 1), ('_Rubén', 1), ('Darío._', 1), ('POEMAS', 1), ('TRADUCCIÓN', 1), ('ALBERTO', 1), ('LASPLACES', 1), ('ANNABEL', 1), ('LEE', 1), ('Hace', 1), ('bastantes', 1), ('podéis', 1), ('amarme', 1), ('_ella_', 1), ('amábamos', 1), ('poderoso', 1), ('heló', 1), ('padres', 1), ('vinieron', 1), ('llevaron', 1), ('encerrarla', 1), ('sentían', 1), ('mitad', 1), ('éramos', 1), ('sabe', 1), ('helando', 1), ('aventajan', 1), ('demonios', 1), ('abismos', 1), ('podrán', 1), ('separar', 1), ('traerme', 1), ('creo', 1), ('brillar', 1), ('acostada', 1), ('quejumbrosa', 1), ('MI', 1), ('MADRE', 1), ('arriba', 1), ('radiantes', 1), ('ferviente', 1), ('_madre_', 1), ('llamo', 1), ('llenáis', 1), ('instalado', 1), ('libertar', 1), ('Virginia', 1), ('murió', 1), ('fuisteis', 1), ('quise', 1), ('tiernamente', 1), ('sois', 1), ('conocí', 1), ('PARA', 1), ('ANNIE', 1), ('¡Gracias', 1), ('crisis', 1), ('lánguida', 1), ('vencida', 1), ('Tristemente', 1), ('desposeído', 1), ('muevo', 1), ('músculo', 1), ('Siento', 1), ('voy', 1), ('paulatinamente', 1), ('contemplarme', 1), ('estremecer', 1), ('viera', 1), ('apaciguadas', 1), ('¡ah', 1), ('incomodidad', 1), ('disgusto', 1), ('enloquecía', 1), ('consumía', 1), ('tormentos', 1), ('tormento', 1), ('pasión', 1), ('maldita', 1), ('arrullador', 1), ('subterránea', 1), ('caverna', 1), ('cuarto', 1), ('estrecho', 1), ('durmió', 1), ('igual', 1), ('_dormir_', 1), ('verdaderamente', 1), ('acostarse', 1), ('tantalizada', 1), ('recordarlas', 1), ('antiguas', 1), ('ansias', 1), ('mirtos', 1), ('Pues', 1), ('imagina', 1), ('mezclado', 1), ('sabor', 1), ('callejero', 1), ('rígidos', 1), ('dichosamente', 1), ('sumergida', 1), ('anegada', 1), ('trenzas', 1), ('Tiernamente', 1), ('abraza', 1), ('apasionadamente', 1), ('acaricia', 1), ('caigo', 1), ('adormido', 1), ('conociendo', 1), ('serenamente', 1), ('estremecéis', 1), ('verme', 1), ('abrasado', 1), ('luminosos', 1), ('ELDORADO', 1), ('Brillantemente', 1), ('ataviado', 1), ('galante', 1), ('viajó', 1), ('cantando', 1), ('animoso', 1), ('encontró', 1), ('faltaron', 1), ('peregrina.', 1), ('Sombra', 1), ('preguntó', 1), ('¿dónde', 1), ('estar', 1), ('descanso', 1), ('respondió', 1), ('buscáis', 1), ('EULALIA', 1), ('Vivía', 1), ('estancada', 1), ('pudorosa', 1), ('sonriente', 1), ('brillan', 1), ('girón', 1), ('emergido', 1), ('irisado', 1), ('modesta', 1), ('humilde', 1), ('pena', 1), ('invaden', 1), ('entrega', 1), ('eleva', 1), ('Recibid', 1), ('dejo', 1), ('permitidme', 1), ('confesar', 1), ('agraviéis', 1), ('estimáis', 1), ('Entretanto', 1), ('¿se', 1), ('bramidos', 1), ('costa', 1), ('atormentada', 1), ('resaca', 1), ('granos', 1), ('arena', 1), ('deslizan', 1), ('dedos', 1), ('abismo', 1), ('puedo', 1), ('retenerlos', 1), ('nudo', 1), ('podré', 1), ('salvar', 1), ('¿Todo', 1), ('CIUDAD', 1), ('MAR', 1), ('occidente', 1), ('buenos', 1), ('peores', 1), ('mejores', 1), ('carcomidas', 1), ('tiemblan', 1), ('parecen', 1), ('nuestras', 1), ('olvidadas', 1), ('sagrado', 1), ('reflejado', 1), ('lívida', 1), ('invade', 1), ('almenas', 1), ('hondo', 1), ('reales', 1), ('murallas', 1), ('babilónicas', 1), ('macizos', 1), ('esculpida', 1), ('flores', 1), ('templo', 1), ('contorneados', 1), ('entrelazan', 1), ('claveles', 1), ('viñas', 1), ('confunden', 1), ('suspendido', 1), ('gigante', 1), ('pies', 1), ('abiertos', 1), ('tumbas', 1), ('bostezan', 1), ('nivel', 1), ('luminosas', 1), ('riquezas', 1), ('muestran', 1), ('adiamantados', 1), ('ídolo', 1), ('cadáveres', 1), ('rientes', 1), ('adornos', 1), ('quitan', 1), ('ondulación', 1), ('arruga', 1), ('desierto', 1), ('indica', 1), ('puedan', 1), ('existir', 1), ('suponer', 1), ('horrorosamente', 1), ('serenos', 1), ('estremecimiento', 1), ('diría', 1), ('bamboleado', 1), ('hubieran', 1), ('ligero', 1), ('brumoso', 1), ('transcurren', 1), ('sordas', 1), ('lánguidas', 1), ('tengan', 1), ('terrestres', 1), ('engullida', 1), ('fijada', 1), ('levantándose', 1), ('Infierno', 1), ('rendirá', 1), ('homenaje', 1), ('DURMIENTE', 1), ('Junio', 1), ('opio', 1), ('exhala', 1), ('halo', 1), ('filtrando', 1), ('cumbre', 1), ('resbala', 1), ('perezosa', 1), ('armoniosamente', 1), ('adormece', 1), ('lis', 1), ('inclina', 1), ('Envolviéndose', 1), ('hunde', 1), ('Ved', 1), ('Leteo', 1), ('adormecerse', 1), ('sabiendas', 1), ('Toda', 1), ('princesa', 1), ('dejar', 1), ('juguetones', 1), ('filtran', 1), ('incorpóreos', 1), ('magos', 1), ('revolotean', 1), ('flotar', 1), ('cortinas', 1), ('dosel', 1), ('fantásticamente', 1), ('tímidamente', 1), ('párpado', 1), ('franjeado', 1), ('piso', 1), ('muro', 1), ('descienden', 1), ('ronda', 1), ('Querida', 1), ('tienes', 1), ('sueñas', 1), ('Has', 1), ('jardín', 1), ('Extraña', 1), ('longitud', 1), ('¡Ella', 1), ('durable', 1), ('¡que', 1), ('tenga', 1), ('guardia', 1), ('transformada', 1), ('melancólica', 1), ('rogaré', 1), ('deje', 1), ('dormir', 1), ('cerrados', 1), ('errarán', 1), ('¡ella', 1), ('gusanos', 1), ('deslicen', 1), ('abrirse', 1), ('panneaux', 1), ('triunfantes', 1), ('estandartes', 1), ('bordados', 1), ('armas', 1), ('aislada', 1), ('portada', 1), ('infancia', 1), ('lanzado', 1), ('ociosas', 1), ('sonora', 1), ('devuelva', 1), ('nuevos', 1), ('estremecía', 1), ('fueran', 1), ('respondiesen', 1), ('gimiendo', 1), ('BALADA', 1), ('NUPCIAL', 1), ('anillo', 1), ('dedo', 1), ('poseo', 1), ('rasos', 1), ('abundancia', 1), ('ama', 1), ('pronunció', 1), ('voto', 1), ('sentí', 1), ('estremecerse', 1), ('sonaron', 1), ('agonía', 1), ('batalla', 1), ('dichoso', 1), ('habló', 1), ('tranquilizarme', 1), ('besó', 1), ('delirio', 1), ('transportó', 1), ('cementerio', 1), ('pensando', 1), ('Elormie', 1), ('suspiré', 1), ('fueron', 1), ('pronunciadas', 1), ('empeñado', 1), ('juramento', 1), ('apagado', 1), ('llegue', 1), ('quebrarse', 1), ('prenda', 1), ('prueba', 1), ('¡Quiera', 1), ('dolorosamente', 1), ('llegar', 1), ('abandonado', 1), ('COLISEO', 1), ('¡Símbolo', 1), ('antigua', 1), ('¡Suntuoso', 1), ('relicario', 1), ('contemplaciones', 1), ('legadas', 1), ('difuntos', 1), ('pompa', 1), ('tantos', 1), ('fatigante', 1), ('peregrinaje', 1), ('corrientes', 1), ('ciencia', 1), ('transformado', 1), ('arrodillo', 1), ('humildemente', 1), ('bebo', 1), ('¡Inmensidad', 1), ('Silencio', 1), ('Os', 1), ('percibo', 1), ('vuestra', 1), ('sortilegios', 1), ('eficaces', 1), ('rey', 1), ('Judea', 1), ('enseñó', 1), ('jardines', 1), ('Gethsemaní', 1), ('encantos', 1), ('Caldea', 1), ('arrancó', 1), ('tranquilas', 1), ('columna', 1), ('teatral', 1), ('murciélago', 1), ('aquelarre', 1), ('romanas', 1), ('flotaba', 1), ('balancean', 1), ('cardo', 1), ('caña', 1), ('monarca', 1), ('silencioso', 1), ('lagarto', 1), ('desliza', 1), ('mármol', 1), ('creciente', 1), ('oíd', 1), ('arcadas', 1), ('revestidas', 1), ('zócalos', 1), ('musgosos', 1), ('columnas', 1), ('ennegrecidas', 1), ('relieves', 1), ('ruinosos', 1), ('cornisas', 1), ('rotas', 1), ('naufragio', 1), ('grises', 1), ('famoso', 1), ('corrosivas', 1), ('perdonado', 1), ('Destino', 1), ('responden', 1), ('Voces', 1), ('fuertes', 1), ('proféticas', 1), ('intención', 1), ('sabios', 1), ('parecidas', 1), ('himnos', 1), ('Memnon', 1), ('Sol', 1), ('Reinamos', 1), ('reinamos', 1), ('despótico', 1), ('gigantes', 1), ('somos', 1), ('impotentes', 1), ('nosotras', 1), ('prestigio', 1), ('renombre', 1), ('circunda', 1), ('moran', 1), ('prenden', 1), ('nuestros', 1), ('flancos', 1), ('envolviéndonos', 1), ('1833', 1), ('GUSANO', 1), ('VENCEDOR', 1), ('gala', 1), ('solitarios', 1), ('multitud', 1), ('alados', 1), ('adornados', 1), ('anegados', 1), ('halla', 1), ('reunida', 1), ('temores', 1), ('orquesta', 1), ('suspira', 1), ('intervalos', 1), ('música', 1), ('esferas', 1), ('Actores', 1), ('creados', 1), ('Altísimo', 1), ('murmuran', 1), ('saltan', 1), ('fantoches', 1), ('van', 1), ('vienen', 1), ('órdenes', 1), ('vastas', 1), ('creaturas', 1), ('informes', 1), ('cambian', 1), ('decoración', 1), ('capricho', 1), ('sacudiendo', 1), ('cóndor', 1), ('abigarrado', 1), ('estad', 1), ('olvidado', 1), ('perseguido', 1), ('atraparlo', 1), ('círculo', 1), ('gira', 1), ('intriga', 1), ('mucha', 1), ('bulla', 1), ('rampante', 1), ('entrada', 1), ('color', 1), ('sanguinolento', 1), ('retorciéndose', 1), ('escena', 1), ('retuerce', 1), ('Con', 1), ('angustias', 1), ('constituyen', 1), ('sollozan', 1), ('viendo', 1), ('mandibulas', 1), ('teñirse', 1), ('Todas', 1), ('apagan', 1), ('tiritante', 1), ('telón', 1), ('paño', 1), ('mortuorio', 1), ('pálidos', 1), ('macilentos', 1), ('cubriéndose', 1), ('afirman', 1), ('tragedia', 1), ('Gusano', 1), ('Vencedor', 1), ('1838', 1), ('ELENA', 1), ('barcas', 1), ('niceanas', 1), ('llevaban', 1), ('cansado', 1), ('natal', 1), ('Largo', 1), ('habituado', 1), ('errar', 1), ('desesperados', 1), ('jacinto', 1), ('clásico', 1), ('perfil', 1), ('cantos', 1), ('transportado', 1), ('Grecia', 1), ('espléndida', 1), ('abertura', 1), ('parecida', 1), ('lámpara', 1), ('ágata', 1), ('regiones', 1), ('Tierra', 1), ('Bendita', 1), ('CIENCIA', 1), ('verdadera', 1), ('indiscreta', 1), ('transforma', 1), ('haces', 1), ('sombrías', 1), ('realidades', 1), ('¿Cómo', 1), ('amarte', 1), ('sabia', 1), ('dejarlo', 1), ('vagar', 1), ('tesoros', 1), ('constelados', 1), ('subiera', 1), ('intrépida', 1), ('arrancado', 1), ('carro', 1), ('obligado', 1), ('hamadriadas', 1), ('buscar', 1), ('sacado', 1), ('elfo', 1), ('pradera', 1), ('verde', 1), ('arrebatado', 1), ('estival', 1), ('tamarindos', 1), ('odio', 1), ('desolados', 1), ('dichosos', 1), ('afligís', 1), ('transeúnte', 1), ('umbrías', 1), ('traviesos', 1), ('pájaros', 1), ('cantores', 1), ('creadas', 1), ('engastados', 1), ('desoladas', 1), ('¡Tu', 1), ('vuelvo', 1), ('dormirme', 1), ('ensoñar', 1), ('capaz', 1), ('locuras', 1), ('AL', 1), ('RÍO', 1), ('¡Bello', 1), ('clara', 1), ('vagabunda', 1), ('Alberto', 1), ('mira', 1), ('ríos', 1), ('adoradores', 1), ('grabada', 1), ('CANCIÓN', 1), ('invadía', 1), ('Amor', 1), ('vivificante', 1), ('encontré', 1), ('Ese', 1), ('virginal', 1), ('impetuosa', 1), ('¡pobre', 1), ('rubor', 1), ('estuvieras', 1), ('ESPÍRITUS', 1), ('MUERTOS', 1), ('encontrará', 1), ('cautiva', 1), ('tumbal', 1), ('inquietará', 1), ('recogimiento', 1), ('Quédate', 1), ('abandono', 1), ('existieron', 1), ('alcanzarán', 1), ('rodearán', 1), ('proyectada', 1), ('obedecerá', 1), ('permanece', 1), ('fruncirá', 1), ('ceño', 1), ('celestes', 1), ('bajarán', 1), ('concede', 1), ('desprovistas', 1), ('serán', 1), ('quemadura', 1), ('querrá', 1), ('unirse', 1), ('Ahora', 1), ('visitan', 1), ('ahuyentarás', 1), ('surgen', 1), ('desvanecerán', 1), ('dejarán', 1), ('fijarán', 1), ('gotas', 1), ('hierba', 1), ('brisa', 1), ('respiración', 1), ('colina', 1), ('desgarrado', 1), ('resulta', 1), ('símbolo', 1), ('signo', 1), ('logra', 1), ('permanecer', 1), ('suspendida', 1), ('ROMANZA', 1), ('romanza', 1), ('gustas', 1), ('cantar', 1), ('plegadas', 1), ('verdes', 1), ('agitadas', 1), ('umbrío', 1), ('papagayo', 1), ('vivos', 1), ('colores', 1), ('familiar', 1), ('enseñado', 1), ('alfabeto', 1), ('balbucear', 1), ('primeras', 1), ('sagaz', 1), ('hundía', 1), ('huraños', 1), ('Cóndor', 1), ('estremecido', 1), ('agrandando', 1), ('tumulto', 1), ('pasaje', 1), ('huida', 1), ('obstinadamente', 1), ('inquietante', 1), ('ocios', 1), ('REINO', 1), ('HADAS', 1), ('torrentes', 1), ('umbríos', 1), ('nebulosos', 1), ('descubrir', 1), ('formas', 1), ('causa', 1), ('lloran', 1), ('lunas', 1), ('desmesuradas', 1), ('crecen', 1), ('decrecen', 1), ('cambiando', 1), ('hálito', 1), ('faces', 1), ('temblorosas', 1), ('Hacia', 1), ('duodécima', 1), ('cuadrante', 1), ('especie', 1), ('probado', 1), ('pone', 1), ('centro', 1), ('vasta', 1), ('circunferencia', 1), ('esparce', 1), ('vestiduras', 1), ('flotantes', 1), ('caseríos', 1), ('mansiones', 1), ('distantes', 1), ('danzan', 1), ('sepulta', 1), ('laberinto', 1), ('¡cuán', 1), ('éxtasis', 1), ('vuela', 1), ('albatros', 1), ('sacude', 1), ('refugiado', 1), ('servido', 1), ('decirlo', 1), ('tienda', 1), ('volver', 1), ('abrigo', 1), ('átomos', 1), ('dispersan', 1), ('convierten', 1), ('lluvia', 1), ('mariposas', 1), ('vuelven', 1), ('¡criaturas', 1), ('satisfechas', 1), ('devuelven', 1), ('partículas', 1), ('estremecidas', 1), ('LAGO', 1), ('primavera', 1), ('frecuentar', 1), ('salvaje', 1), ('rodeado', 1), ('peñascos', 1), ('pinos', 1), ('dominaban', 1), ('alrededores', 1), ('tendía', 1), ('agregaba', 1), ('murmurando', 1), ('despertaba', 1), ('turbación', 1), ('deliciosa', 1), ('sentimiento', 1), ('mina', 1), ('preciosas', 1), ('inspirarme', 1), ('convidarme', 1), ('definir', 1), ('reinaba', 1), ('envenenada', 1), ('remolino', 1), ('beber', 1), ('desamparada', 1), ('haberse', 1), ('velado', 1), ('ESTRELLA', 1), ('TARDE', 1), ('verano', 1), ('marchando', 1), ('brillaban', 1), ('ésta', 1), ('planetas', 1), ('esclavos', 1), ('lanzaba', 1), ('olas', 1), ('contemplaba', 1), ('volví', 1), ('Estrella', 1), ('Sur', 1), ('traes', 1), ('magnificente', 1), ('prefiero', 1), ('discreto', 1), ('cercana', 1), ('DÍA', 1), ('MÁS', 1), ('FELIZ', 1), ('agotado', 1), ('alta', 1), ('¿He', 1), ('Sí', 1), ('desvanecido', 1), ('dejémoslos', 1), ('desvanezcan', 1), ('haré', 1), ('heredar', 1), ('veneno', 1), ('dado', 1), ('permanezca', 1), ('podido', 1), ('existe', 1), ('ofrecida', 1), ('acompañada', 1), ('experimento', 1), ('revivir', 1), ('llevaba', 1), ('mezcla', 1), ('volaba', 1), ('dejaba', 1), ('caer', 1), ('todopoderosa', 1), ('consumir', 1), ('conocía', 1), ('IMITACIÓN', 1), ('insondable', 1), ('debió', 1), ('parecer', 1), ('añado', 1), ('atravesado', 1), ('apercibido', 1), ('ensoñadora', 1), ('herede', 1), ('extienden', 1), ('hechizo', 1), ('liviano', 1), ('preocupo', 1), ('perezca', 1), ('TRADUCIDOS', 1), ('CARLOS', 1), ('ARTURO', 1), ('TORRES', 1), ('CAMPANAS', 1), ('dilata', 1), ('campanilleo', 1), ('trineo', 1), ('expresa', 1), ('ambiente', 1), ('glacial', 1), ('Mientras', 1), ('astrales', 1), ('titilan', 1), ('cristales', 1), ('hielos', 1), ('sube', 1), ('dilatando', 1), ('confín', 1), ('campanilla', 1), ('¡Melodiosa', 1), ('argentina', 1), ('límpido', 1), ('¡Escuchad', 1), ('puebla', 1), ('boda', 1), ('venturanza', 1), ('plácida', 1), ('caricia', 1), ('suave', 1), ('reproche', 1), ('desgrana', 1), ('perlas', 1), ('delicia', 1), ('áureas', 1), ('notas', 1), ('ledo', 1), ('murmullo', 1), ('enamorado', 1), ('arrullo', 1), ('tórtola', 1), ('dormida', 1), ('laguna', 1), ('vierte', 1), ('linfas', 1), ('palpita', 1), ('serenata', 1), ('áurea', 1), ('balsámico', 1), ('efluvio', 1), ('primaveral', 1), ('celebrando', 1), ('¡Turba', 1), ('sosiego', 1), ('súbita', 1), ('alarma', 1), ('terrífica', 1), ('siniestra', 1), ('augura', 1), ('desesperado', 1), ('ruego', 1), ('desgarrador', 1), ('tenaz', 1), ('elemento', 1), ('ciego', 1), ('frenético', 1), ('voraz', 1), ('indescriptible', 1), ('pánico', 1), ('cataclismo', 1), ('raudo', 1), ('titánico', 1), ('campanada', 1), ('alarido', 1), ('clamoroso', 1), ('estruendo', 1), ('diciendo', 1), ('peligro', 1), ('horrendo', 1), ('inflama', 1), ('sangriento', 1), ('tabernáculo', 1), ('alumbra', 1), ('espectáculo', 1), ('alarmante', 1), ('injuria', 1), ('incendio', 1), ('furia', 1), ('pavor', 1), ('escarlatas', 1), ('inflamado', 1), ('espanto', 1), ('armígero', 1), ('estrago', 1), ('flamígero', 1), ('violento', 1), ('tocando', 1), ('Dobla', 1), ('invita', 1), ('entierro', 1), ('solemnes', 1), ('despiertan', 1), ('acentos', 1), ('Del', 1), ('gemido', 1), ('estremecida', 1), ('admonición', 1), ('¡Se', 1), ('desprenden', 1), ('vibración', 1), ('alienta', 1), ('irónico', 1), ('zumba', 1), ('agrio', 1), ('sardónico', 1), ('derrumba', 1), ('oprime', 1), ('peso', 1), ('¡Quienes', 1), ('tañen', 1), ('toques', 1), ('funerales', 1), ('campaneros', 1), ('sencillos', 1), ('sepulcrales', 1), ('tesón', 1), ('Pausado', 1), ('lamento', 1), ('pregonando', 1), ('sintiera', 1), ('placer', 1), ('diabólico', 1), ('Din', 1), ('monótono', 1), ('gozo', 1), ('refina', 1), ('sollozo', 1), ('giro', 1), ('remeda', 1), ('doble', 1), ('augural', 1), ('recordando', 1), ('final', 1), ('cesa', 1), ('vibra', 1), ('opresa', 1), ('sordamente', 1), ('cuerpo', 1), ('cayera', 1), ('huesa', 1), ('¡Din', 1), ('ULALUME', 1), ('cenicientos', 1), ('sombríos', 1), ('crespas', 1), ('lívidas', 1), ('márgenes', 1), ('tenebroso', 1), ('tétricos', 1), ('solas', 1), ('recorría', 1), ('titánica', 1), ('cipreses', 1), ('llamas', 1), ('sulfúreas', 1), ('lavas', 1), ('brotan', 1), ('polo', 1), ('nocturna', 1), ('Pocas', 1), ('dijimos', 1), ('confidencia', 1), ('íntima', 1), ('muda', 1), ('serias', 1), ('graves', 1), ('turban', 1), ('¡noche', 1), ('tremer', 1), ('lánguido', 1), ('fulgor', 1), ('diamantino', 1), ('anuncia', 1), ('emerge', 1), ('fantástica', 1), ('misteriosa', 1), ('mostrarnos', 1), ('ruta', 1), ('Letea', 1), ('traspasando', 1), ('despecho', 1), ('ora', 1), ('límpidas', 1), ('anuncian.', 1), ('VI', 1), ('señalando', 1), ('conturba', 1), ('huyamos', 1), ('preciso.', 1), ('plegó', 1), ('lentas', 1), ('dejando', 1), ('VII', 1), ('trémula', 1), ('bañen', 1), ('cristalinos', 1), ('sibilinos', 1), ('auguran', 1), ('irradian', 1), ('Mira', 1), ('limpios', 1), ('llevarán', 1), ('segura', 1), ('limpia', 1), ('bóveda', 1), ('cerúlea', 1), ('VIII', 1), ('Tranquilicé', 1), ('besándola', 1), ('mente', 1), ('aparté', 1), ('inquietudes', 1), ('zozobras', 1), ('disipé', 1), ('profundas', 1), ('convencerla', 1), ('siguiera', 1), ('pude', 1), ('Llegamos', 1), ('¡ojalá', 1), ('llegara', 1), ('monumento', 1), ('inscripción', 1), ('confusa', 1), ('sellada', 1), ('descubre', 1), ('Respondiome', 1), ('¡la', 1), ('IX', 1), ('Quedó', 1), ('ceniciento', 1), ('yertas', 1), ('crispadas', 1), ('¡Ay', 1), ('pensé', 1), ('_esa', 1), ('noche_', 1), ('vine', 1), ('trayendo', 1), ('carga', 1), ('infernal', 1), ('trajo', 1), ('tristura', 1), ('reconozco', 1), ('comarca', 1), ('anubla', 1), ('ESTRELLAS', 1), ('FIJAS', 1), ('TO', 1), ('HELEN', 1), ('julio', 1), ('tibia', 1), ('perfumada', 1), ('plena', 1), ('descendían', 1), ('gráciles', 1), ('ráfaga', 1), ('quietud', 1), ('perturbaban', 1), ('evaporaban', 1), ('perfumes', 1), ('recogieras', 1), ('mágica', 1), ('aspiraras', 1), ('aliento', 1), ('claridades', 1), ('¡Toda', 1), ('blanco', 1), ('vestida', 1), ('reclinada', 1), ('moribundas', 1), ('tenue', 1), ('alumbraba', 1), ('diluida', 1), ('evaporadas', 1), ('hado', 1), ('¿fué', 1), ('ventura', 1), ('condujo', 1), ('perfumados', 1), ('Ni', 1), ('hoja', 1), ('susurraba', 1), ('pisada', 1), ('¡cuál', 1), ('agito', 1), ('unir', 1), ('cambia', 1), ('perfume', 1), ('dormidas', 1), ('auras', 1), ('senderos', 1), ('expiran', 1), ('violas', 1), ('huye', 1), ('¡Todo', 1), ('extingue', 1), ('arde', 1), ('tristezas', 1), ('extrahumanas', 1), ('irreales', 1), ('leyendas', 1), ('relatan', 1), ('dolores', 1), ('renunciaciones', 1), ('expresan', 1), ('fijan', 1), ('¡Noche', 1), ('turbios', 1), ('nubarrones', 1), ('hundió', 1), ('plateada', 1), ('funeraria', 1), ('alejas', 1), ('incorpórea', 1), ('flotan', 1), ('quedan', 1), ('espacios', 1), ('sendero', 1), ('¡Van', 1), ('cándidas', 1), ('apareadas', 1), ('purifican', 1), ('abrasan', 1), ('prosterno', 1), ('adoración', 1), ('ocultan', 1), ('ocultó', 1), ('siguen', 1), ('mirándome', 1), ('fijamente', 1), ('clavadas', 1), ('¡Misteriosas', 1), ('lejanas', 1), ('persiguen', 1), ('DREAMLAND', 1), ('crucé', 1), ('atrevido', 1), ('Reino', 1), ('entré', 1), ('confines', 1), ('lindes', 1), ('riberas', 1), ('densos', 1), ('titánicos', 1), ('desafían', 1), ('base', 1), ('mudos', 1), ('bordes', 1), ('escarpados', 1), ('gélidos', 1), ('muertas', 1), ('copian', 1), ('tétrico', 1), ('Orillas', 1), ('reflejan', 1), ('fatídico', 1), ('enfrente', 1), ('océanos', 1), ('montes', 1), ('formidables', 1), ('hondos', 1), ('antros', 1), ('vense', 1), ('silenciosos', 1), ('dolientes', 1), ('¡son', 1), ('dejaron', 1), ('caros', 1), ('idos', 1), ('nutrida', 1), ('acaso', 1), ('azorado', 1), ('cruza', 1), ('espantos', 1), ('perennemente', 1), ('seguirán', 1), ('sellados', 1), ('incontrastado', 1), ('desolada', 1), ('Diosa', 1), ('inexplorada', 1), ('última', 1), ('esfuma', 1), ('abrumada', 1), ('¡He', 1), ('pos', 1), ('huyeron', 1), ('CUERVO', 1), ('TRADUCIDO', 1), ('J.', 1), ('PÉREL', 1), ('BONALDO', 1), ('fosca', 1), ('reflexiones', 1), ('infolio', 1), ('cronicones', 1), ('soñoliento', 1), ('alguien', 1), ('suavemente', 1), ('pusiese', 1), ('incierta', 1), ('visita', 1), ('llamando', 1), ('crudo', 1), ('hielo', 1), ('brasa', 1), ('moribunda', 1), ('enviaba', 1), ('Cuán', 1), ('ansioso', 1), ('deseaba', 1), ('lectura', 1), ('par', 1), ('querubes', 1), ('crujido', 1), ('incierto', 1), ('colgaduras', 1), ('aterraba', 1), ('llenaba', 1), ('pavuras', 1), ('latido', 1), ('instancia', 1), ('tardío', 1), ('Paso', 1), ('bríos', 1), ('cobrando', 1), ('Caballero', 1), ('perdones', 1), ('demando', 1), ('dormía', 1), ('vinisteis', 1), ('delicadeza', 1), ('pusisteis', 1), ('¡sombras', 1), ('Mudo', 1), ('haciendo', 1), ('empeños', 1), ('soñó', 1), ('forjando', 1), ('acusaba', 1), ('alguno', 1), ('Resonar', 1), ('escuchaba', 1), ('murmurar', 1), ('¡Leonora', 1), ('¡nada', 1), ('retornando', 1), ('turbulencia', 1), ('violencia', 1), ('posa', 1), ('veamos', 1), ('llana', 1), ('serio', 1), ('enigma', 1), ('¡Corazón', 1), ('Calma', 1), ('aclaremos', 1), ('rítmico', 1), ('aleteo', 1), ('garbo', 1), ('entró', 1), ('majestuoso', 1), ('sacra', 1), ('antaño', 1), ('Sin', 1), ('pararse', 1), ('señales', 1), ('susto', 1), ('señorial', 1), ('posarse', 1), ('Minerva', 1), ('cabezal', 1), ('figura', 1), ('representa', 1), ('posose', 1), ('Trocó', 1), ('sonrisas', 1), ('torva', 1), ('seria', 1), ('decorosa', 1), ('cresta', 1), ('calva', 1), ('llevas', 1), ('nocturnal', 1), ('vagabundo', 1), ('tiniebla', 1), ('Dime', 1), ('¿Cuál', 1), ('plutoniano', 1), ('niebla', 1), ('Asombrado', 1), ('oyendo', 1), ('hablar', 1), ('avechucho', 1), ('árida', 1), ('expresaba', 1), ('preciso', 1), ('convengamos', 1), ('criatura', 1), ('lograse', 1), ('encaramada', 1), ('bruto', 1), ('reposar', 1), ('cincelada', 1), ('vinculada', 1), ('sacudía', 1), ('acento', 1), ('pronunciar', 1), ('Dije', 1), ('marchado', 1), ('aurora', 1), ('despuntar', 1), ('irá', 1), ('volando', 1), ('volado.', 1), ('abrupta', 1), ('sorprendido', 1), ('amo', 1), ('desdichoso', 1), ('duelo', 1), ('canciones', 1), ('terminar', 1), ('ritornelo', 1), ('provocando', 1), ('sillón', 1), ('rodé', 1), ('luego', 1), ('hundiéndome', 1), ('seda', 1), ('juntar', 1), ('pretendía', 1), ('ominoso', 1), ('hosco', 1), ('torvo', 1), ('graznar', 1), ('Quedé', 1), ('aquesto', 1), ('investigando', 1), ('encendidos', 1), ('abrasaban', 1), ('cojines', 1), ('reclinado', 1), ('anhelo', 1), ('empeñaba', 1), ('descifrar', 1), ('do', 1), ('imprimía', 1), ('huella', 1), ('fanal', 1), ('púrpura', 1), ('volverá', 1), ('oprimir', 1), ('Pareciome', 1), ('incógnito', 1), ('incensario', 1), ('querube', 1), ('columpiase', 1), ('perfumado', 1), ('Miserable', 1), ('angelical', 1), ('olvido', 1), ('brindar', 1), ('¡bebe', 1), ('nepente', 1), ('olvida', 1), ('Eh', 1), ('duende', 1), ('seas', 1), ('envíe', 1), ('tormenta', 1), ('veas', 1), ('ábregos', 1), ('barrido', 1), ('desolado', 1), ('intrépido', 1), ('hogar', 1), ('males', 1), ('devastado', 1), ('imploro', 1), ('¿Llegaré', 1), ('bálsamo', 1), ('Oh', 1), ('combo', 1), ('zafir', 1), ('cobija', 1), ('adoramos', 1), ('dile', 1), ('adolorida', 1), ('doncella', 1), ('arrobadora', 1), ('estrechar', 1), ('arcángeles', 1), ('señal', 1), ('partida', 1), ('grité', 1), ('alzándome', 1), ('¡Retorna', 1), ('hórrida', 1), ('guarida', 1), ('plutónica', 1), ('horrenda', 1), ('falsedad', 1), ('dejes', 1), ('¡El', 1), ('¡Deja', 1), ('Quita', 1), ('pico', 1), ('umbral', 1), ('aleja', 1), ('escultura', 1), ('demonio', 1), ('durmiendo', 1), ('cayendo', 1), ('arroja', 1), ('trunca', 1), ('alzará', 1), ('FIN', 1)]\n"
     ]
    }
   ],
   "source": [
    "distribucion=nltk.FreqDist(texto_nltk) \n",
    "lista_frecuencias=distribucion.most_common() #Para ordenar la distribución de la frecuencia de palabras\n",
    "print(lista_frecuencias)"
   ]
  },
  {
   "cell_type": "code",
   "execution_count": 44,
   "metadata": {},
   "outputs": [
    {
     "data": {
      "image/png": "[encoded data removed]",
      "text/plain": [
       "<Figure size 432x288 with 1 Axes>"
      ]
     },
     "metadata": {
      "needs_background": "light"
     },
     "output_type": "display_data"
    }
   ],
   "source": [
    "lista_palabras=[\"amor\",\"corazón\",\"mundo\",\"mansiones\"] \n",
    "texto_nltk.dispersion_plot(lista_palabras)"
   ]
  },
  {
   "cell_type": "code",
   "execution_count": 48,
   "metadata": {},
   "outputs": [
    {
     "name": "stdout",
     "output_type": "stream",
     "text": [
      "1\n"
     ]
    }
   ],
   "source": [
    "texto_nltk=nltk.Text(tokens) \n",
    "distribucion=nltk.FreqDist(texto_nltk) \n",
    "distribucion\n",
    "print(distribucion[\"padre\"])"
   ]
  },
  {
   "cell_type": "markdown",
   "metadata": {},
   "source": [
    "Un hapax es una palabra que aparece únicamente una vez en el texto.\n"
   ]
  },
  {
   "cell_type": "code",
   "execution_count": 51,
   "metadata": {
    "tags": []
   },
   "outputs": [
    {
     "data": {
      "text/plain": [
       "2499"
      ]
     },
     "execution_count": 51,
     "metadata": {},
     "output_type": "execute_result"
    }
   ],
   "source": [
    "texto_nltk=nltk.Text(tokens) \n",
    "distribucion=nltk.FreqDist(texto_nltk)\n",
    "hapaxes=distribucion.hapaxes() \n",
    "#for hapax in hapaxes: \n",
    "#    print(hapax)\n",
    "len(hapaxes)"
   ]
  },
  {
   "cell_type": "code",
   "execution_count": 24,
   "metadata": {},
   "outputs": [
    {
     "data": {
      "text/plain": [
       "list"
      ]
     },
     "execution_count": 24,
     "metadata": {},
     "output_type": "execute_result"
    }
   ],
   "source": [
    "type(hapaxes)"
   ]
  },
  {
   "cell_type": "code",
   "execution_count": 25,
   "metadata": {},
   "outputs": [
    {
     "data": {
      "text/plain": [
       "2499"
      ]
     },
     "execution_count": 25,
     "metadata": {},
     "output_type": "execute_result"
    }
   ],
   "source": [
    "len(hapaxes)"
   ]
  },
  {
   "cell_type": "code",
   "execution_count": 52,
   "metadata": {},
   "outputs": [
    {
     "data": {
      "text/plain": [
       "0.2652167671547517"
      ]
     },
     "execution_count": 52,
     "metadata": {},
     "output_type": "execute_result"
    }
   ],
   "source": [
    "riqueza_lexica(tokens)"
   ]
  },
  {
   "cell_type": "code",
   "execution_count": 60,
   "metadata": {
    "tags": []
   },
   "outputs": [],
   "source": [
    "import nltk\n",
    "palabras_funcionales=nltk.corpus.stopwords.words(\"spanish\")\n",
    "#for palabras_funcional in palabras_funcionales: \n",
    "#    print(palabras_funcional)\n",
    "#palabras_funcionales"
   ]
  },
  {
   "cell_type": "code",
   "execution_count": 61,
   "metadata": {},
   "outputs": [
    {
     "name": "stdout",
     "output_type": "stream",
     "text": [
      "13932\n",
      "8298\n"
     ]
    }
   ],
   "source": [
    "tokens=nltk.word_tokenize(texto,\"spanish\")\n",
    "tokens_limpios=[] \n",
    "tokens = [token.lower() for token in tokens]\n",
    "for token in tokens: \n",
    "    if token not in palabras_funcionales: \n",
    "        tokens_limpios.append(token)\n",
    "print(len(tokens)) \n",
    "print(len(tokens_limpios))"
   ]
  },
  {
   "cell_type": "code",
   "execution_count": 64,
   "metadata": {},
   "outputs": [
    {
     "data": {
      "image/png": "[encoded data removed]",
      "text/plain": [
       "<Figure size 432x288 with 1 Axes>"
      ]
     },
     "metadata": {
      "needs_background": "light"
     },
     "output_type": "display_data"
    },
    {
     "data": {
      "text/plain": [
       "<AxesSubplot:xlabel='Samples', ylabel='Counts'>"
      ]
     },
     "execution_count": 64,
     "metadata": {},
     "output_type": "execute_result"
    }
   ],
   "source": [
    "nltk.FreqDist(nltk.Text(tokens_limpios)).plot(3)"
   ]
  },
  {
   "cell_type": "code",
   "execution_count": 32,
   "metadata": {},
   "outputs": [
    {
     "name": "stdout",
     "output_type": "stream",
     "text": [
      "[(',', 1078), ('.', 309), ('!', 131), ('--', 108), (';', 104), (':', 61), ('«', 51), ('»', 49), ('alma', 42), ('...', 38)]\n"
     ]
    }
   ],
   "source": [
    "distribucion = nltk.FreqDist(nltk.Text(tokens_limpios))#.plot(10)\n",
    "print(distribucion.most_common()[:10])"
   ]
  },
  {
   "cell_type": "code",
   "execution_count": 33,
   "metadata": {
    "collapsed": true,
    "jupyter": {
     "outputs_hidden": true
    },
    "tags": []
   },
   "outputs": [
    {
     "name": "stdout",
     "output_type": "stream",
     "text": [
      "['de', 'la', 'que', 'el', 'en', 'y', 'a', 'los', 'del', 'se', 'las', 'por', 'un', 'para', 'con', 'no', 'una', 'su', 'al', 'lo', 'como', 'más', 'pero', 'sus', 'le', 'ya', 'o', 'este', 'sí', 'porque', 'esta', 'entre', 'cuando', 'muy', 'sin', 'sobre', 'también', 'me', 'hasta', 'hay', 'donde', 'quien', 'desde', 'todo', 'nos', 'durante', 'todos', 'uno', 'les', 'ni', 'contra', 'otros', 'ese', 'eso', 'ante', 'ellos', 'e', 'esto', 'mí', 'antes', 'algunos', 'qué', 'unos', 'yo', 'otro', 'otras', 'otra', 'él', 'tanto', 'esa', 'estos', 'mucho', 'quienes', 'nada', 'muchos', 'cual', 'poco', 'ella', 'estar', 'estas', 'algunas', 'algo', 'nosotros', 'mi', 'mis', 'tú', 'te', 'ti', 'tu', 'tus', 'ellas', 'nosotras', 'vosotros', 'vosotras', 'os', 'mío', 'mía', 'míos', 'mías', 'tuyo', 'tuya', 'tuyos', 'tuyas', 'suyo', 'suya', 'suyos', 'suyas', 'nuestro', 'nuestra', 'nuestros', 'nuestras', 'vuestro', 'vuestra', 'vuestros', 'vuestras', 'esos', 'esas', 'estoy', 'estás', 'está', 'estamos', 'estáis', 'están', 'esté', 'estés', 'estemos', 'estéis', 'estén', 'estaré', 'estarás', 'estará', 'estaremos', 'estaréis', 'estarán', 'estaría', 'estarías', 'estaríamos', 'estaríais', 'estarían', 'estaba', 'estabas', 'estábamos', 'estabais', 'estaban', 'estuve', 'estuviste', 'estuvo', 'estuvimos', 'estuvisteis', 'estuvieron', 'estuviera', 'estuvieras', 'estuviéramos', 'estuvierais', 'estuvieran', 'estuviese', 'estuvieses', 'estuviésemos', 'estuvieseis', 'estuviesen', 'estando', 'estado', 'estada', 'estados', 'estadas', 'estad', 'he', 'has', 'ha', 'hemos', 'habéis', 'han', 'haya', 'hayas', 'hayamos', 'hayáis', 'hayan', 'habré', 'habrás', 'habrá', 'habremos', 'habréis', 'habrán', 'habría', 'habrías', 'habríamos', 'habríais', 'habrían', 'había', 'habías', 'habíamos', 'habíais', 'habían', 'hube', 'hubiste', 'hubo', 'hubimos', 'hubisteis', 'hubieron', 'hubiera', 'hubieras', 'hubiéramos', 'hubierais', 'hubieran', 'hubiese', 'hubieses', 'hubiésemos', 'hubieseis', 'hubiesen', 'habiendo', 'habido', 'habida', 'habidos', 'habidas', 'soy', 'eres', 'es', 'somos', 'sois', 'son', 'sea', 'seas', 'seamos', 'seáis', 'sean', 'seré', 'serás', 'será', 'seremos', 'seréis', 'serán', 'sería', 'serías', 'seríamos', 'seríais', 'serían', 'era', 'eras', 'éramos', 'erais', 'eran', 'fui', 'fuiste', 'fue', 'fuimos', 'fuisteis', 'fueron', 'fuera', 'fueras', 'fuéramos', 'fuerais', 'fueran', 'fuese', 'fueses', 'fuésemos', 'fueseis', 'fuesen', 'sintiendo', 'sentido', 'sentida', 'sentidos', 'sentidas', 'siente', 'sentid', 'tengo', 'tienes', 'tiene', 'tenemos', 'tenéis', 'tienen', 'tenga', 'tengas', 'tengamos', 'tengáis', 'tengan', 'tendré', 'tendrás', 'tendrá', 'tendremos', 'tendréis', 'tendrán', 'tendría', 'tendrías', 'tendríamos', 'tendríais', 'tendrían', 'tenía', 'tenías', 'teníamos', 'teníais', 'tenían', 'tuve', 'tuviste', 'tuvo', 'tuvimos', 'tuvisteis', 'tuvieron', 'tuviera', 'tuvieras', 'tuviéramos', 'tuvierais', 'tuvieran', 'tuviese', 'tuvieses', 'tuviésemos', 'tuvieseis', 'tuviesen', 'teniendo', 'tenido', 'tenida', 'tenidos', 'tenidas', 'tened']\n"
     ]
    }
   ],
   "source": [
    "print(palabras_funcionales)"
   ]
  },
  {
   "cell_type": "code",
   "execution_count": 65,
   "metadata": {},
   "outputs": [
    {
     "name": "stdout",
     "output_type": "stream",
     "text": [
      "6220\n"
     ]
    }
   ],
   "source": [
    "tokens_limpios=[] \n",
    "for token in tokens: \n",
    "    if token not in palabras_funcionales: \n",
    "        if len(token) > 2:\n",
    "            if token != \"...\":\n",
    "                tokens_limpios.append(token)\n",
    "print(len(tokens_limpios))"
   ]
  },
  {
   "cell_type": "code",
   "execution_count": 66,
   "metadata": {},
   "outputs": [
    {
     "data": {
      "image/png": "[encoded data removed]",
      "text/plain": [
       "<Figure size 432x288 with 1 Axes>"
      ]
     },
     "metadata": {
      "needs_background": "light"
     },
     "output_type": "display_data"
    },
    {
     "data": {
      "text/plain": [
       "<AxesSubplot:xlabel='Samples', ylabel='Counts'>"
      ]
     },
     "execution_count": 66,
     "metadata": {},
     "output_type": "execute_result"
    }
   ],
   "source": [
    "nltk.FreqDist(nltk.Text(tokens_limpios)).plot(20)"
   ]
  },
  {
   "cell_type": "code",
   "execution_count": 67,
   "metadata": {},
   "outputs": [
    {
     "data": {
      "text/plain": [
       "0.5303858520900322"
      ]
     },
     "execution_count": 67,
     "metadata": {},
     "output_type": "execute_result"
    }
   ],
   "source": [
    "riqueza_lexica(tokens_limpios)"
   ]
  },
  {
   "cell_type": "markdown",
   "metadata": {},
   "source": [
    "# Stemming\n",
    "\n",
    "Reducir palabras a su raíz (puede no tener significado):\n",
    " + Organise, organising, organisation --> organis\n",
    " + intelligence, intelligently --> intelligen"
   ]
  },
  {
   "cell_type": "markdown",
   "metadata": {},
   "source": [
    "Para hacer stemming usamos el algoritmo *Porter stemmer*\n",
    "https://tartarus.org/martin/PorterStemmer/"
   ]
  },
  {
   "cell_type": "code",
   "execution_count": 68,
   "metadata": {},
   "outputs": [],
   "source": [
    "from nltk.stem import PorterStemmer"
   ]
  },
  {
   "cell_type": "code",
   "execution_count": 69,
   "metadata": {},
   "outputs": [
    {
     "data": {
      "text/plain": [
       "'coursing hi dear students, how are you doing? we are almost finishing the bootcamp. we hope you are learning and enjoying the course.'"
      ]
     },
     "execution_count": 69,
     "metadata": {},
     "output_type": "execute_result"
    }
   ],
   "source": [
    "texto = \"coursing hi dear students, how are you doing? we are almost finishing the bootcamp. we hope you are learning and enjoying the course.\"\n",
    "texto"
   ]
  },
  {
   "cell_type": "code",
   "execution_count": 70,
   "metadata": {},
   "outputs": [
    {
     "data": {
      "text/plain": [
       "['coursing hi dear students, how are you doing?',\n",
       " 'we are almost finishing the bootcamp.',\n",
       " 'we hope you are learning and enjoying the course.']"
      ]
     },
     "execution_count": 70,
     "metadata": {},
     "output_type": "execute_result"
    }
   ],
   "source": [
    "from nltk.tokenize import sent_tokenize\n",
    "frases = sent_tokenize(texto) #Crea tokens de frases \n",
    "frases"
   ]
  },
  {
   "cell_type": "code",
   "execution_count": 71,
   "metadata": {},
   "outputs": [
    {
     "data": {
      "text/plain": [
       "['cours hi dear student , how are you do ?',\n",
       " 'we are almost finish the bootcamp .',\n",
       " 'we hope you are learn and enjoy the cours .']"
      ]
     },
     "execution_count": 71,
     "metadata": {},
     "output_type": "execute_result"
    }
   ],
   "source": [
    "stemmer = PorterStemmer()\n",
    "nueva_frase = []\n",
    "\n",
    "for i in range(len(frases)):\n",
    "    words = nltk.word_tokenize(frases[i])\n",
    "    words=[stemmer.stem(word) for word in words]\n",
    "    nueva_frase.append(' '.join(words))\n",
    "nueva_frase  \n",
    "#' '.join(nueva_frase)"
   ]
  },
  {
   "cell_type": "code",
   "execution_count": 72,
   "metadata": {},
   "outputs": [
    {
     "data": {
      "text/plain": [
       "'cours hi dear student , how are you do ? we are almost finish the bootcamp . we hope you are learn and enjoy the cours .'"
      ]
     },
     "execution_count": 72,
     "metadata": {},
     "output_type": "execute_result"
    }
   ],
   "source": [
    "(\" \").join(nueva_frase)"
   ]
  },
  {
   "cell_type": "code",
   "execution_count": 42,
   "metadata": {},
   "outputs": [
    {
     "data": {
      "text/plain": [
       "'cours hi dear student , how are you do ? we are almost finish the bootcamp . we hope you are learn and enjoy the cours .'"
      ]
     },
     "execution_count": 42,
     "metadata": {},
     "output_type": "execute_result"
    }
   ],
   "source": [
    "\" \".join ([stemmer.stem(word) for word in nltk.word_tokenize(texto)])"
   ]
  },
  {
   "cell_type": "markdown",
   "metadata": {},
   "source": [
    "## Lematización\n",
    "Similar al stemming, pero ahora la raíz sí que tiene significado:\n",
    "+ going, goes, gone --> go\n",
    "+ intelligence, intelligently --> intelligent"
   ]
  },
  {
   "cell_type": "code",
   "execution_count": 73,
   "metadata": {},
   "outputs": [],
   "source": [
    "from nltk.stem import WordNetLemmatizer"
   ]
  },
  {
   "cell_type": "code",
   "execution_count": 74,
   "metadata": {},
   "outputs": [
    {
     "data": {
      "text/plain": [
       "['coursing hi dear student , how are you doing ?',\n",
       " 'we are almost finishing the bootcamp .',\n",
       " 'we hope you are learning and enjoying the course .']"
      ]
     },
     "execution_count": 74,
     "metadata": {},
     "output_type": "execute_result"
    }
   ],
   "source": [
    "frases = sent_tokenize(texto)\n",
    "lemmatizer = WordNetLemmatizer()\n",
    "nueva_frase = []\n",
    "\n",
    "for i in range(len(frases)):\n",
    "    words = nltk.word_tokenize(frases[i])\n",
    "    words=[lemmatizer.lemmatize(word) for word in words]\n",
    "    nueva_frase.append(' '.join(words))\n",
    "    \n",
    "nueva_frase"
   ]
  },
  {
   "cell_type": "code",
   "execution_count": 45,
   "metadata": {},
   "outputs": [
    {
     "data": {
      "text/plain": [
       "'coursing hi dear students, how are you doing? we are almost finishing the bootcamp. we hope you are learning and enjoying the course.'"
      ]
     },
     "execution_count": 45,
     "metadata": {},
     "output_type": "execute_result"
    }
   ],
   "source": [
    "texto"
   ]
  },
  {
   "cell_type": "code",
   "execution_count": 75,
   "metadata": {},
   "outputs": [
    {
     "data": {
      "text/plain": [
       "'john is an intelligent individual. he intelligently does smart work. he is a top performer in the intelligence'"
      ]
     },
     "execution_count": 75,
     "metadata": {},
     "output_type": "execute_result"
    }
   ],
   "source": [
    "texto2 = 'john is an intelligent individual. he intelligently does smart work. he is a top performer in the intelligence'\n",
    "texto2"
   ]
  },
  {
   "cell_type": "code",
   "execution_count": 76,
   "metadata": {},
   "outputs": [
    {
     "data": {
      "text/plain": [
       "['john is an intelligent individual .',\n",
       " 'he intelligently doe smart work .',\n",
       " 'he is a top performer in the intelligence']"
      ]
     },
     "execution_count": 76,
     "metadata": {},
     "output_type": "execute_result"
    }
   ],
   "source": [
    "frases = sent_tokenize(texto2)\n",
    "lemmatizer = WordNetLemmatizer()\n",
    "nueva_frase = []\n",
    "\n",
    "for i in range(len(frases)):\n",
    "    words = nltk.word_tokenize(frases[i])\n",
    "    words=[lemmatizer.lemmatize(word) for word in words]\n",
    "    nueva_frase.append(' '.join(words))\n",
    "    \n",
    "nueva_frase"
   ]
  },
  {
   "cell_type": "code",
   "execution_count": 77,
   "metadata": {},
   "outputs": [
    {
     "data": {
      "text/plain": [
       "'john is an intelligent individual . he intelligently doe smart work . he is a top performer in the intelligence'"
      ]
     },
     "execution_count": 77,
     "metadata": {},
     "output_type": "execute_result"
    }
   ],
   "source": [
    "words=[lemmatizer.lemmatize(word) for word in nltk.word_tokenize(texto2)]\n",
    "\" \".join(words)"
   ]
  },
  {
   "cell_type": "code",
   "execution_count": 78,
   "metadata": {},
   "outputs": [],
   "source": [
    "from nltk.sentiment.vader import SentimentIntensityAnalyzer\n",
    "sia = SentimentIntensityAnalyzer()"
   ]
  },
  {
   "cell_type": "code",
   "execution_count": 79,
   "metadata": {},
   "outputs": [],
   "source": [
    "texto= '''\n",
    "The National Guard has been released in Minneapolis to do the job that the Democrat Mayor couldn’t do. Should have been used 2 days ago & there would not have been damage & Police Headquarters would not have been taken over & ruined. Great job by the National Guard. No games!\n",
    "'''\n",
    "tokens=nltk.word_tokenize(texto)\n"
   ]
  },
  {
   "cell_type": "code",
   "execution_count": 51,
   "metadata": {},
   "outputs": [
    {
     "name": "stdout",
     "output_type": "stream",
     "text": [
      "The\n",
      "{'neg': 0.0, 'neu': 1.0, 'pos': 0.0, 'compound': 0.0}\n",
      "National\n",
      "{'neg': 0.0, 'neu': 1.0, 'pos': 0.0, 'compound': 0.0}\n",
      "Guard\n",
      "{'neg': 0.0, 'neu': 1.0, 'pos': 0.0, 'compound': 0.0}\n",
      "has\n",
      "{'neg': 0.0, 'neu': 1.0, 'pos': 0.0, 'compound': 0.0}\n",
      "been\n",
      "{'neg': 0.0, 'neu': 1.0, 'pos': 0.0, 'compound': 0.0}\n",
      "released\n",
      "{'neg': 0.0, 'neu': 1.0, 'pos': 0.0, 'compound': 0.0}\n",
      "in\n",
      "{'neg': 0.0, 'neu': 1.0, 'pos': 0.0, 'compound': 0.0}\n",
      "Minneapolis\n",
      "{'neg': 0.0, 'neu': 1.0, 'pos': 0.0, 'compound': 0.0}\n",
      "to\n",
      "{'neg': 0.0, 'neu': 1.0, 'pos': 0.0, 'compound': 0.0}\n",
      "do\n",
      "{'neg': 0.0, 'neu': 1.0, 'pos': 0.0, 'compound': 0.0}\n",
      "the\n",
      "{'neg': 0.0, 'neu': 1.0, 'pos': 0.0, 'compound': 0.0}\n",
      "job\n",
      "{'neg': 0.0, 'neu': 1.0, 'pos': 0.0, 'compound': 0.0}\n",
      "that\n",
      "{'neg': 0.0, 'neu': 1.0, 'pos': 0.0, 'compound': 0.0}\n",
      "the\n",
      "{'neg': 0.0, 'neu': 1.0, 'pos': 0.0, 'compound': 0.0}\n",
      "Democrat\n",
      "{'neg': 0.0, 'neu': 1.0, 'pos': 0.0, 'compound': 0.0}\n",
      "Mayor\n",
      "{'neg': 0.0, 'neu': 1.0, 'pos': 0.0, 'compound': 0.0}\n",
      "couldn\n",
      "{'neg': 0.0, 'neu': 1.0, 'pos': 0.0, 'compound': 0.0}\n",
      "’\n",
      "{'neg': 0.0, 'neu': 0.0, 'pos': 0.0, 'compound': 0.0}\n",
      "t\n",
      "{'neg': 0.0, 'neu': 0.0, 'pos': 0.0, 'compound': 0.0}\n",
      "do\n",
      "{'neg': 0.0, 'neu': 1.0, 'pos': 0.0, 'compound': 0.0}\n",
      ".\n",
      "{'neg': 0.0, 'neu': 0.0, 'pos': 0.0, 'compound': 0.0}\n",
      "Should\n",
      "{'neg': 0.0, 'neu': 1.0, 'pos': 0.0, 'compound': 0.0}\n",
      "have\n",
      "{'neg': 0.0, 'neu': 1.0, 'pos': 0.0, 'compound': 0.0}\n",
      "been\n",
      "{'neg': 0.0, 'neu': 1.0, 'pos': 0.0, 'compound': 0.0}\n",
      "used\n",
      "{'neg': 0.0, 'neu': 1.0, 'pos': 0.0, 'compound': 0.0}\n",
      "2\n",
      "{'neg': 0.0, 'neu': 0.0, 'pos': 0.0, 'compound': 0.0}\n",
      "days\n",
      "{'neg': 0.0, 'neu': 1.0, 'pos': 0.0, 'compound': 0.0}\n",
      "ago\n",
      "{'neg': 0.0, 'neu': 1.0, 'pos': 0.0, 'compound': 0.0}\n",
      "&\n",
      "{'neg': 0.0, 'neu': 0.0, 'pos': 0.0, 'compound': 0.0}\n",
      "there\n",
      "{'neg': 0.0, 'neu': 1.0, 'pos': 0.0, 'compound': 0.0}\n",
      "would\n",
      "{'neg': 0.0, 'neu': 1.0, 'pos': 0.0, 'compound': 0.0}\n",
      "not\n",
      "{'neg': 0.0, 'neu': 1.0, 'pos': 0.0, 'compound': 0.0}\n",
      "have\n",
      "{'neg': 0.0, 'neu': 1.0, 'pos': 0.0, 'compound': 0.0}\n",
      "been\n",
      "{'neg': 0.0, 'neu': 1.0, 'pos': 0.0, 'compound': 0.0}\n",
      "damage\n",
      "{'neg': 1.0, 'neu': 0.0, 'pos': 0.0, 'compound': -0.4939}\n",
      "&\n",
      "{'neg': 0.0, 'neu': 0.0, 'pos': 0.0, 'compound': 0.0}\n",
      "Police\n",
      "{'neg': 0.0, 'neu': 1.0, 'pos': 0.0, 'compound': 0.0}\n",
      "Headquarters\n",
      "{'neg': 0.0, 'neu': 1.0, 'pos': 0.0, 'compound': 0.0}\n",
      "would\n",
      "{'neg': 0.0, 'neu': 1.0, 'pos': 0.0, 'compound': 0.0}\n",
      "not\n",
      "{'neg': 0.0, 'neu': 1.0, 'pos': 0.0, 'compound': 0.0}\n",
      "have\n",
      "{'neg': 0.0, 'neu': 1.0, 'pos': 0.0, 'compound': 0.0}\n",
      "been\n",
      "{'neg': 0.0, 'neu': 1.0, 'pos': 0.0, 'compound': 0.0}\n",
      "taken\n",
      "{'neg': 0.0, 'neu': 1.0, 'pos': 0.0, 'compound': 0.0}\n",
      "over\n",
      "{'neg': 0.0, 'neu': 1.0, 'pos': 0.0, 'compound': 0.0}\n",
      "&\n",
      "{'neg': 0.0, 'neu': 0.0, 'pos': 0.0, 'compound': 0.0}\n",
      "ruined\n",
      "{'neg': 1.0, 'neu': 0.0, 'pos': 0.0, 'compound': -0.4767}\n",
      ".\n",
      "{'neg': 0.0, 'neu': 0.0, 'pos': 0.0, 'compound': 0.0}\n",
      "Great\n",
      "{'neg': 0.0, 'neu': 0.0, 'pos': 1.0, 'compound': 0.6249}\n",
      "job\n",
      "{'neg': 0.0, 'neu': 1.0, 'pos': 0.0, 'compound': 0.0}\n",
      "by\n",
      "{'neg': 0.0, 'neu': 1.0, 'pos': 0.0, 'compound': 0.0}\n",
      "the\n",
      "{'neg': 0.0, 'neu': 1.0, 'pos': 0.0, 'compound': 0.0}\n",
      "National\n",
      "{'neg': 0.0, 'neu': 1.0, 'pos': 0.0, 'compound': 0.0}\n",
      "Guard\n",
      "{'neg': 0.0, 'neu': 1.0, 'pos': 0.0, 'compound': 0.0}\n",
      ".\n",
      "{'neg': 0.0, 'neu': 0.0, 'pos': 0.0, 'compound': 0.0}\n",
      "No\n",
      "{'neg': 1.0, 'neu': 0.0, 'pos': 0.0, 'compound': -0.296}\n",
      "games\n",
      "{'neg': 0.0, 'neu': 1.0, 'pos': 0.0, 'compound': 0.0}\n",
      "!\n",
      "{'neg': 0.0, 'neu': 0.0, 'pos': 0.0, 'compound': 0.0}\n"
     ]
    }
   ],
   "source": [
    "for token in tokens:\n",
    "    ss = sia.polarity_scores(token)\n",
    "    print(token)\n",
    "    print(ss)"
   ]
  },
  {
   "cell_type": "code",
   "execution_count": 80,
   "metadata": {},
   "outputs": [],
   "source": [
    "def sentiment_scores(frase):\n",
    "    score = sia.polarity_scores(frase)\n",
    "    print(frase)\n",
    "    print(score)\n",
    "    print(\"{:/<20} {}\".format(frase, str(score)))"
   ]
  },
  {
   "cell_type": "code",
   "execution_count": 81,
   "metadata": {},
   "outputs": [
    {
     "name": "stdout",
     "output_type": "stream",
     "text": [
      "\n",
      "The National Guard has been released in Minneapolis to do the job that the Democrat Mayor couldn’t do. Should have been used 2 days ago & there would not have been damage & Police Headquarters would not have been taken over & ruined. Great job by the National Guard. No games!\n",
      "\n",
      "{'neg': 0.096, 'neu': 0.777, 'pos': 0.127, 'compound': 0.4059}\n",
      "\n",
      "The National Guard has been released in Minneapolis to do the job that the Democrat Mayor couldn’t do. Should have been used 2 days ago & there would not have been damage & Police Headquarters would not have been taken over & ruined. Great job by the National Guard. No games!\n",
      " {'neg': 0.096, 'neu': 0.777, 'pos': 0.127, 'compound': 0.4059}\n"
     ]
    }
   ],
   "source": [
    "sentiment_scores(texto)"
   ]
  },
  {
   "cell_type": "code",
   "execution_count": 83,
   "metadata": {},
   "outputs": [
    {
     "name": "stdout",
     "output_type": "stream",
     "text": [
      "god\n",
      "{'neg': 0.0, 'neu': 0.0, 'pos': 1.0, 'compound': 0.2732}\n",
      "god///////////////// {'neg': 0.0, 'neu': 0.0, 'pos': 1.0, 'compound': 0.2732}\n"
     ]
    }
   ],
   "source": [
    "sentiment_scores(\"god\")"
   ]
  },
  {
   "cell_type": "code",
   "execution_count": null,
   "metadata": {},
   "outputs": [],
   "source": []
  }
 ],
 "metadata": {
  "kernelspec": {
   "display_name": "Python 3",
   "language": "python",
   "name": "python3"
  },
  "language_info": {
   "codemirror_mode": {
    "name": "ipython",
    "version": 3
   },
   "file_extension": ".py",
   "mimetype": "text/x-python",
   "name": "python",
   "nbconvert_exporter": "python",
   "pygments_lexer": "ipython3",
   "version": "3.8.8"
  }
 },
 "nbformat": 4,
 "nbformat_minor": 4
}
